{
 "cells": [
  {
   "cell_type": "markdown",
   "metadata": {},
   "source": [
    "# Statistics for Data Science\n",
    "\n",
    "The work done in the name of data science has roots in various fields, including computer science, mathematics, and statistics. Broadly speaking, **statistics** involves collecting and analyzing data to find useful information, with the goal of making decisions based off that knowledge."
   ]
  },
  {
   "cell_type": "markdown",
   "metadata": {},
   "source": [
    "## Introductory Terminology\n",
    "\n",
    "There are two major areas in the field of statistics:\n",
    "\n",
    "1. **Descriptive statistics**: collecting and organizing data and usually performing general calculations to measure central tendency and variability (or spread) of that data\n",
    "2. **Inferential statistics**: procedures to understand relationships, draw conclusions, or make predictions about a population based on sample data from that population\n",
    "\n",
    "Before diving into each field, it's important to understand the different **types of data** out there. Generally, it can be qualitative or quantitative, each with further sub-categories.\n",
    "\n",
    "- **Quantitative Data**: numeric observations, such as height, the number of classes a student is enrolled in, or the percentage of households with pets by city. This can be further broken down into either discrete or continuous data\n",
    "- **Qualitative Data**: observations that are non-numeric attributes, such as gender, the mode of transportation a person takes, or the type of material something is made of. Also referred to as **categorical** data\n",
    "- **Discrete Numerical Data**: a subset of quantitative data, where you are able to *count* the possible values (think integers), such as the number of people who contracted the flu this year\n",
    "- **Continuous Numerical Data**: a subset of quantitative data, where you aren't able to count the possible values (think decimals - usually the result of a measurement that can take on any real number). An example is the fluid ounces of coffee you drink each morning\n",
    "- **Ordinal Data**: qualitative or categorical data that has an inherent order to it, such as months (January, February, March,...) or sizes (small, medium, large)\n",
    "- **Nominal Data**: qualitative data where the categories don't have an inherent order or rank, such as the style of a home (colonial, ranch, contemporary, etc.)\n",
    "- **Binary Data**: a subset of qualitative data where observations fall into one of two mutually exclusive categories, such as true/false or meets standards / is defective"
   ]
  },
  {
   "cell_type": "markdown",
   "metadata": {},
   "source": [
    "### General terms and Formulas\n",
    "\n",
    "- **Population**: the set of all measurements of interest. A number describing a population is a **parameter**\n",
    "- **Sample**: any small group of individuals or objects selected to represent the entire group (the population). A number describing a sample is a **statistic**\n",
    "\n",
    "**Measures of central tendency**\n",
    "\n",
    "- **Arithmetic Mean**: also an average: $\\frac{\\sum_{i=1}^n x_i}{n}$\n",
    "- **Sample Mean**: the average of points in data set: $\\bar{x} = \\frac{1}{n} \\displaystyle \\sum_{i=1}^n x_i$\n",
    "- **Median**: the middle value of $x_i$'s in a sorted dataset (also the 50th percentile, or 0.5 quantile)\n",
    "- **Mode**: the most common value in the set\n",
    "\n",
    "**Measures of variability**\n",
    "\n",
    "- **Population Variance**: $Var(X) = \\displaystyle \\sum_{i=1}^n p_i (x_i - \\mu)^2$\n",
    "- **Population Standard Deviation**: $\\sigma = \\sqrt{Var(X)} = STD(X)$\n",
    "- **Sample Variance**: $s^2 = \\frac{1}{n-1} \\displaystyle \\sum_{i=1}^n (x_i - \\bar{x})^2$\n",
    "- **Sample Standard Deviation**: $s = \\sqrt{s^2}$\n"
   ]
  }
 ],
 "metadata": {
  "kernelspec": {
   "display_name": "Python 3",
   "language": "python",
   "name": "python3"
  },
  "language_info": {
   "codemirror_mode": {
    "name": "ipython",
    "version": 3
   },
   "file_extension": ".py",
   "mimetype": "text/x-python",
   "name": "python",
   "nbconvert_exporter": "python",
   "pygments_lexer": "ipython3",
   "version": "3.7.2"
  }
 },
 "nbformat": 4,
 "nbformat_minor": 0
}
