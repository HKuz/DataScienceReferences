{
 "cells": [
  {
   "cell_type": "markdown",
   "metadata": {},
   "source": [
    "# Statistics for Data Science\n",
    "\n",
    "The work done in the name of data science has roots in various fields, including computer science, mathematics, and statistics. Broadly speaking, **statistics** involves collecting and analyzing data to find useful information, with the goal of making decisions based off that knowledge."
   ]
  },
  {
   "cell_type": "markdown",
   "metadata": {},
   "source": [
    "## Introductory Terminology\n",
    "\n",
    "There are two major areas in the field of statistics:\n",
    "\n",
    "1. **Descriptive statistics**: collecting and organizing data and usually performing general calculations to measure central tendency and variability (or spread) of that data\n",
    "2. **Inferential statistics**: procedures to understand relationships, draw conclusions, or make predictions about a population based on sample data from that population\n",
    "\n",
    "\n",
    "**Types of Data**\n",
    "\n",
    "- **Qualitative Data**: observations that are non-numeric attributes, such as gender, the mode of transportation a person takes, or the type of material something is made of\n",
    "- **Quantitative Data**: numeric observations, such as height, the number of classes a student is enrolled in, or the percentage of households with pets by city\n",
    "- **Discrete Numerical Data**: where you are able to *count* the possible values (think integers), such as the number of people who contracted the flu this year\n",
    "- **Continuous Numerical Data**: where you aren't able to count the possible values (usually the result of a measurement that can take on any real number - think decimals), such as the fluid ounces of coffee you drink each morning\n",
    "- "
   ]
  }
 ],
 "metadata": {
  "kernelspec": {
   "display_name": "Python 3",
   "language": "python",
   "name": "python3"
  },
  "language_info": {
   "codemirror_mode": {
    "name": "ipython",
    "version": 3
   },
   "file_extension": ".py",
   "mimetype": "text/x-python",
   "name": "python",
   "nbconvert_exporter": "python",
   "pygments_lexer": "ipython3",
   "version": "3.7.2"
  }
 },
 "nbformat": 4,
 "nbformat_minor": 0
}
