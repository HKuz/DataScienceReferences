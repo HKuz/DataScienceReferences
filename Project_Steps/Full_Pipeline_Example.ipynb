{
 "cells": [
  {
   "cell_type": "markdown",
   "metadata": {},
   "source": [
    "# Example of a Full Data Cleaning and Model Fitting Pipeline"
   ]
  },
  {
   "cell_type": "code",
   "execution_count": 55,
   "metadata": {},
   "outputs": [],
   "source": [
    "# Import libraries\n",
    "import pickle\n",
    "import sys\n",
    "\n",
    "import numpy as np\n",
    "import pandas as pd\n",
    "\n",
    "import matplotlib.pyplot as plt\n",
    "%matplotlib inline\n",
    "import seaborn as sns\n",
    "sns.set_style('darkgrid')\n",
    "\n",
    "from sklearn.model_selection import train_test_split\n",
    "from sklearn.base import BaseEstimator, TransformerMixin\n",
    "from sklearn.pipeline import Pipeline, FeatureUnion\n",
    "from sklearn.preprocessing import FunctionTransformer, OneHotEncoder\n",
    "from sklearn.compose import ColumnTransformer"
   ]
  },
  {
   "cell_type": "code",
   "execution_count": 20,
   "metadata": {},
   "outputs": [
    {
     "data": {
      "text/html": [
       "<div>\n",
       "<style scoped>\n",
       "    .dataframe tbody tr th:only-of-type {\n",
       "        vertical-align: middle;\n",
       "    }\n",
       "\n",
       "    .dataframe tbody tr th {\n",
       "        vertical-align: top;\n",
       "    }\n",
       "\n",
       "    .dataframe thead th {\n",
       "        text-align: right;\n",
       "    }\n",
       "</style>\n",
       "<table border=\"1\" class=\"dataframe\">\n",
       "  <thead>\n",
       "    <tr style=\"text-align: right;\">\n",
       "      <th></th>\n",
       "      <th>avg_monthly_hrs</th>\n",
       "      <th>department</th>\n",
       "      <th>filed_complaint</th>\n",
       "      <th>last_evaluation</th>\n",
       "      <th>n_projects</th>\n",
       "      <th>recently_promoted</th>\n",
       "      <th>salary</th>\n",
       "      <th>satisfaction</th>\n",
       "      <th>status</th>\n",
       "      <th>tenure</th>\n",
       "    </tr>\n",
       "  </thead>\n",
       "  <tbody>\n",
       "    <tr>\n",
       "      <th>0</th>\n",
       "      <td>221</td>\n",
       "      <td>engineering</td>\n",
       "      <td>NaN</td>\n",
       "      <td>0.932868</td>\n",
       "      <td>4</td>\n",
       "      <td>NaN</td>\n",
       "      <td>low</td>\n",
       "      <td>0.829896</td>\n",
       "      <td>Left</td>\n",
       "      <td>5.0</td>\n",
       "    </tr>\n",
       "    <tr>\n",
       "      <th>1</th>\n",
       "      <td>232</td>\n",
       "      <td>support</td>\n",
       "      <td>NaN</td>\n",
       "      <td>NaN</td>\n",
       "      <td>3</td>\n",
       "      <td>NaN</td>\n",
       "      <td>low</td>\n",
       "      <td>0.834544</td>\n",
       "      <td>Employed</td>\n",
       "      <td>2.0</td>\n",
       "    </tr>\n",
       "    <tr>\n",
       "      <th>2</th>\n",
       "      <td>184</td>\n",
       "      <td>sales</td>\n",
       "      <td>NaN</td>\n",
       "      <td>0.788830</td>\n",
       "      <td>3</td>\n",
       "      <td>NaN</td>\n",
       "      <td>medium</td>\n",
       "      <td>0.834988</td>\n",
       "      <td>Employed</td>\n",
       "      <td>3.0</td>\n",
       "    </tr>\n",
       "    <tr>\n",
       "      <th>3</th>\n",
       "      <td>206</td>\n",
       "      <td>sales</td>\n",
       "      <td>NaN</td>\n",
       "      <td>0.575688</td>\n",
       "      <td>4</td>\n",
       "      <td>NaN</td>\n",
       "      <td>low</td>\n",
       "      <td>0.424764</td>\n",
       "      <td>Employed</td>\n",
       "      <td>2.0</td>\n",
       "    </tr>\n",
       "    <tr>\n",
       "      <th>4</th>\n",
       "      <td>249</td>\n",
       "      <td>sales</td>\n",
       "      <td>NaN</td>\n",
       "      <td>0.845217</td>\n",
       "      <td>3</td>\n",
       "      <td>NaN</td>\n",
       "      <td>low</td>\n",
       "      <td>0.779043</td>\n",
       "      <td>Employed</td>\n",
       "      <td>3.0</td>\n",
       "    </tr>\n",
       "  </tbody>\n",
       "</table>\n",
       "</div>"
      ],
      "text/plain": [
       "   avg_monthly_hrs   department  filed_complaint  last_evaluation  n_projects  \\\n",
       "0              221  engineering              NaN         0.932868           4   \n",
       "1              232      support              NaN              NaN           3   \n",
       "2              184        sales              NaN         0.788830           3   \n",
       "3              206        sales              NaN         0.575688           4   \n",
       "4              249        sales              NaN         0.845217           3   \n",
       "\n",
       "   recently_promoted  salary  satisfaction    status  tenure  \n",
       "0                NaN     low      0.829896      Left     5.0  \n",
       "1                NaN     low      0.834544  Employed     2.0  \n",
       "2                NaN  medium      0.834988  Employed     3.0  \n",
       "3                NaN     low      0.424764  Employed     2.0  \n",
       "4                NaN     low      0.779043  Employed     3.0  "
      ]
     },
     "execution_count": 20,
     "metadata": {},
     "output_type": "execute_result"
    }
   ],
   "source": [
    "# Get data\n",
    "df = pd.read_csv('Data/employee_data.csv')\n",
    "df.head()"
   ]
  },
  {
   "cell_type": "code",
   "execution_count": 72,
   "metadata": {},
   "outputs": [
    {
     "data": {
      "text/plain": [
       "array(['engineering', 'support', 'sales', 'IT', 'product', 'marketing',\n",
       "       'procurement', 'finance', nan, 'management',\n",
       "       'information_technology', 'admin'], dtype=object)"
      ]
     },
     "execution_count": 72,
     "metadata": {},
     "output_type": "execute_result"
    }
   ],
   "source": [
    "# Drop duplicates and remove temporary workers\n",
    "df = df.drop_duplicates()\n",
    "\n",
    "df = df[df.department != 'temp']\n",
    "\n",
    "df.department.unique()"
   ]
  },
  {
   "cell_type": "code",
   "execution_count": 73,
   "metadata": {},
   "outputs": [
    {
     "name": "stdout",
     "output_type": "stream",
     "text": [
      "(11254, 9) (2814, 9) (11254,) (2814,)\n"
     ]
    }
   ],
   "source": [
    "# Split data into training and test sets\n",
    "np.random.seed(42)\n",
    "X = df.drop('status', axis=1)\n",
    "y = df['status']\n",
    "\n",
    "X_train, X_test, y_train, y_test = train_test_split(X, y,\n",
    "                                                    test_size=0.2,\n",
    "                                                    random_state=42,\n",
    "                                                    stratify=y)\n",
    "\n",
    "print(X_train.shape, X_test.shape, y_train.shape, y_test.shape)"
   ]
  },
  {
   "cell_type": "code",
   "execution_count": 74,
   "metadata": {},
   "outputs": [
    {
     "data": {
      "text/plain": [
       "avg_monthly_hrs        int64\n",
       "department            object\n",
       "filed_complaint      float64\n",
       "last_evaluation      float64\n",
       "n_projects             int64\n",
       "recently_promoted    float64\n",
       "salary                object\n",
       "satisfaction         float64\n",
       "tenure               float64\n",
       "dtype: object"
      ]
     },
     "execution_count": 74,
     "metadata": {},
     "output_type": "execute_result"
    }
   ],
   "source": [
    "# X_train.select_dtypes(include=[np.number])\n",
    "X_train.dtypes"
   ]
  },
  {
   "cell_type": "code",
   "execution_count": 75,
   "metadata": {},
   "outputs": [],
   "source": [
    "# Create a custom transformer to select columns by their data type\n",
    "\n",
    "class SelectColByType(BaseEstimator, TransformerMixin):\n",
    "    def __init__(self, dtype):\n",
    "        self.dtype = dtype\n",
    "\n",
    "    def fit(self, X, y=None):\n",
    "        return self\n",
    "\n",
    "    def transform(self, X):\n",
    "        assert isinstance(X, pd.DataFrame)\n",
    "        return X.select_dtypes(include=[self.dtype])\n"
   ]
  },
  {
   "cell_type": "code",
   "execution_count": 76,
   "metadata": {},
   "outputs": [],
   "source": [
    "# Create a custom transformer to clean data\n",
    "\n",
    "class CleanData(BaseEstimator, TransformerMixin):\n",
    "    def __init__(self):\n",
    "        pass\n",
    "    \n",
    "    def fit(self, X, y=None):\n",
    "        return self\n",
    "    \n",
    "    def transform(self, X):\n",
    "        assert isinstance(X, pd.DataFrame)\n",
    "\n",
    "        # Missing filed_complaint values should be 0\n",
    "        X['filed_complaint'] = X.filed_complaint.fillna(0)\n",
    "\n",
    "        # Missing recently_promoted values should be 0\n",
    "        X['recently_promoted'] = X.recently_promoted.fillna(0)\n",
    "\n",
    "        # 'information_technology' should be 'IT'\n",
    "        X.department.replace('information_technology', 'IT', inplace=True)\n",
    "\n",
    "        # Fill missing categorical department values with 'Missing'\n",
    "        X['department'].fillna('Missing', inplace=True)\n",
    "\n",
    "        # Create indicator variable if last_evaluation is missing\n",
    "        X['last_evaluation_missing'] = X.last_evaluation.isnull().astype(int)\n",
    "\n",
    "        # Fill missing values in last_evaluation with 0\n",
    "        X.last_evaluation.fillna(0, inplace=True)\n",
    "        \n",
    "        # Return cleaned dataframe\n",
    "        return X"
   ]
  },
  {
   "cell_type": "code",
   "execution_count": 83,
   "metadata": {},
   "outputs": [
    {
     "name": "stdout",
     "output_type": "stream",
     "text": [
      "7\n"
     ]
    },
    {
     "data": {
      "text/plain": [
       "Index(['avg_monthly_hrs', 'department', 'filed_complaint', 'last_evaluation',\n",
       "       'n_projects', 'recently_promoted', 'salary', 'satisfaction', 'tenure'],\n",
       "      dtype='object')"
      ]
     },
     "execution_count": 83,
     "metadata": {},
     "output_type": "execute_result"
    }
   ],
   "source": [
    "last_eval_ix, satisfaction_ix  = [\n",
    "    list(X.columns).index(col)\n",
    "    for col in (\"last_evaluation\", \"satisfaction\")]\n",
    "\n",
    "last_eval_miss_ix = 9  # not created until CleanData class run\n",
    "print(list(X.columns).index('satisfaction'))\n",
    "X.columns"
   ]
  },
  {
   "cell_type": "code",
   "execution_count": 66,
   "metadata": {},
   "outputs": [],
   "source": [
    "# Create a custom transformer to engineer features\n",
    "\n",
    "class AddFeatures(BaseEstimator, TransformerMixin):\n",
    "    def __init__(self):\n",
    "        pass\n",
    "    \n",
    "    def fit(self, X, y=None):\n",
    "        return self\n",
    "\n",
    "    def transform(self, X):      \n",
    "        # Create new indicator features\n",
    "        X['underperformer'] = ((X.last_evaluation < 0.6) &\n",
    "                               (X.last_evaluation_missing == 0)).astype(int)\n",
    "\n",
    "        X['unhappy'] = (X.satisfaction < 0.2).astype(int)\n",
    "\n",
    "        X['overachiever'] = ((X.last_evaluation > 0.8) &\n",
    "                             (X.satisfaction > 0.7)).astype(int)\n",
    "\n",
    "        # Create new dataframe with dummy features\n",
    "        # TODO: Move to separate pipeline task using OneHotEncoder instead?\n",
    "#         X = pd.get_dummies(X, columns=['department', 'salary'])\n",
    "\n",
    "        # Return augmented DataFrame\n",
    "        return X"
   ]
  },
  {
   "cell_type": "code",
   "execution_count": 64,
   "metadata": {},
   "outputs": [
    {
     "data": {
      "text/plain": [
       "['avg_monthly_hrs',\n",
       " 'department',\n",
       " 'filed_complaint',\n",
       " 'last_evaluation',\n",
       " 'n_projects',\n",
       " 'recently_promoted',\n",
       " 'salary',\n",
       " 'satisfaction',\n",
       " 'tenure',\n",
       " 'last_evaluation_missing',\n",
       " 'underperformer',\n",
       " 'unhappy',\n",
       " 'overachiever']"
      ]
     },
     "execution_count": 64,
     "metadata": {},
     "output_type": "execute_result"
    }
   ],
   "source": [
    "X_cols = X_train.columns\n",
    "list(X_cols)"
   ]
  },
  {
   "cell_type": "code",
   "execution_count": 88,
   "metadata": {},
   "outputs": [
    {
     "name": "stdout",
     "output_type": "stream",
     "text": [
      "(11254, 10)\n"
     ]
    },
    {
     "data": {
      "text/plain": [
       "array([229, 'support', 1.0, 0.571134911664, 5, 0.0, 'low', 0.571764696819,\n",
       "       4.0, 0], dtype=object)"
      ]
     },
     "execution_count": 88,
     "metadata": {},
     "output_type": "execute_result"
    }
   ],
   "source": [
    "X_cols = list(X_train.columns)\n",
    "\n",
    "pipeline_process = ColumnTransformer(\n",
    "    [('clean_data', CleanData(), X_cols),\n",
    "#      ('one_hot', OneHotEncoder(dtype='int'), ['department', 'salary']) # doesn't work bec of nansa\n",
    "    ],\n",
    "     remainder='passthrough')\n",
    "\n",
    "pipeline_addfeats = Pipeline([\n",
    "    ('add_features', AddFeatures()),\n",
    "])\n",
    "\n",
    "pipeline_full = Pipeline([\n",
    "    ('process', pipeline_process),\n",
    "#     ('addfeats', pipeline_addfeats),\n",
    "])\n",
    "\n",
    "new_X = pipeline_full.fit_transform(X_train)\n",
    "\n",
    "print(new_X.shape)\n",
    "new_X[0, :]"
   ]
  }
 ],
 "metadata": {
  "kernelspec": {
   "display_name": "Python 3",
   "language": "python",
   "name": "python3"
  },
  "language_info": {
   "codemirror_mode": {
    "name": "ipython",
    "version": 3
   },
   "file_extension": ".py",
   "mimetype": "text/x-python",
   "name": "python",
   "nbconvert_exporter": "python",
   "pygments_lexer": "ipython3",
   "version": "3.7.3"
  }
 },
 "nbformat": 4,
 "nbformat_minor": 2
}
