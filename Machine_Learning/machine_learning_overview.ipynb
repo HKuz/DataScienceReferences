{
 "cells": [
  {
   "cell_type": "markdown",
   "metadata": {},
   "source": [
    "# Overview of Machine Learning\n",
    "\n",
    "Machine Learning (ML) is a subfield of Artificial Intelligence that uses computation to build models from data. Like modeling tasks in other fields, the goal of machine learning is to represent a real-world system in a meaningful way. Generally, ML algorithms take various forms of data and look for underlying relationships that may have gone unnoticed by humans - all without being explicitly programmed to do so!\n",
    "\n",
    "The algorithms themselves are based on statistics and mathematical optimization techniques. There are different types of algorithms available, and the appropriate ones to apply will largely depend on the data and the problem at hand. Algorithms are usually grouped by the following type:\n",
    "\n",
    "- **Supervised learning algorithms**: learn patterns from labeled data then apply those patterns to make accurate predictions about new, similar data\n",
    "- **Unsupervised learning algorithms**: give insight into the structure of the data or reduce the number of variables (or features) to those that are relevant\n",
    "- **Recommender system algorithms**: learn relationships within data to make useful recommendations\n",
    "- **Reinforcement learning algorithms**: find the optimal way to perform a task or learn how to interact in an environment, given a system of rewards and punishments\n",
    "\n",
    "Machine Learning is closely related to predictive statistics, and is sometimes referred to as predictive analytics or predictive modeling."
   ]
  },
  {
   "cell_type": "code",
   "execution_count": 1,
   "metadata": {},
   "outputs": [],
   "source": [
    "# Import libraries\n",
    "import numpy as np\n",
    "import pandas as pd\n",
    "\n",
    "import matplotlib.pyplot as plt\n",
    "%matplotlib inline\n",
    "import seaborn as sns\n",
    "sns.set_style('darkgrid')\n",
    "\n",
    "import sklearn.datasets\n",
    "from sklearn.model_selection import train_test_split"
   ]
  },
  {
   "cell_type": "markdown",
   "metadata": {},
   "source": [
    "## Supervised Learning\n",
    "\n",
    "Supervised learning is in the realm of building models to make predictions. The data that are fed to the machine learning algorithms include the \"answer\" or outcome the model needs to predict, which is also called the target variable or label. The model uses this to learn the relationships between the independent variables (the input, or features) and the labels, and that mapping is later applied to new, unseen data to make predictions going forward.\n",
    "\n",
    "Supervised learning is further broken down by the type of problem - there are **classification** problems, which predict a class or category of an observation, and **regression** problems, which predict a numerical value for an observation."
   ]
  },
  {
   "cell_type": "markdown",
   "metadata": {},
   "source": [
    "### Classification\n",
    "\n",
    "Examples of classification algorithms:\n",
    "\n",
    "- **Logistic Regression**: applies sigmoid function to linear regression, can use either $L_1$ or $L_2$ norm\n",
    "- **$k$-Nearest Neighbors (kNN)**: finds $k$-nearest neighbors based on a similarity function and uses majority vote to determine the class\n",
    "- **Random forest classifier**:\n",
    "- **Stochastic Gradient Descent classifier**: capable of handling large datasets and training in batches (or each instance independently)\n",
    "- [TO COME]\n",
    "\n",
    "#### Performance Measures\n",
    "\n",
    "Classification problems use performance measures that tie closely to the **confusion matrix**, which is a grid of actual labels against the model's predicted results. The best performance measure to optimize for a model will depend on the specifics of the problem.\n",
    "\n",
    "| Actual: | Predicted False | Predicted True |\n",
    "| ----- | ----- | ----- |\n",
    "| **Is False** | True Negative (TN) | False Positive (FP) |\n",
    "| **Is True** | False Negative (FN) | True Positive (TP) |\n",
    "\n",
    "\n",
    "A **type I error** (false negative) is when the label is true but the observation is incorrectly classified as false. The probability of a type I error is called **alpha risk**. A **type II error** (false positive) is when the label is false but the observation is incorrectly classified as true. The probability of a type II error is called **beta risk**.\n",
    "\n",
    "- **Accuracy**: the fraction of correct predictions to total predictions $\\frac{TN + TP}{TN + FN + TP + FP}$\n",
    "- **Precision**: the rate of true positives to everything predicted as positive. In other words, when the model claims an observation is positive, it's correct this percent of the time. High precision means there are few observations in the negative class falsely predicted as positives. Precision is a good metric to use when what is classified as positive MUST be correct (predicting appropriate videos for kids) $\\frac{TP}{TP + FP}$\n",
    "- **Recall (sensitivity, true positive rate, TPR)**: the rate of true positives to everything that is positive, or in other words, the percent of all the positives the model detects. High recall shows the model is good at detective the positive class. Recall is an appropriate metric to use when you can't let any positives slip through the cracks (like predicting malignant tumors so patient receives timely treatment) $\\frac{TP}{TP + FN}$\n",
    "- **F1 Score**: the harmonic mean of precision and recall - both values for precision and recall must be high to approach the highest possible value of 1. F1 score is good for situations that don't favor either precision or recall, but want to maximize both, or for when the positive class is scarce $\\frac{2}{\\frac{1}{precision} + \\frac{1}{recall}} = \\frac{TP}{TP + \\frac{FN + FP}{2}} = 2 \\cdot \\frac{\\text{precision} \\cdot \\text{recall}}{\\text{precision} + \\text{recall}}$\n",
    "- **Specificity (true negative rate, TNR)**: the rate of true negatives to everything that is negative $\\frac{TN}{TN + FP}$\n",
    "- **False positive rate (FPR)**: the rate of negative values falsely classified as positive to everything that is negative $\\frac{FP}{TN + FP}$\n",
    "- **False negative rate (FNR)**: the rate of positive values falsely classified as negative to everything that is  positive $\\frac{FN}{TP + FN}$\n",
    "- **Receiver Operating Characteristic (ROC)**: plots the FPR (the ratio of incorrectly classified negative values to all negative values) against the TPR/recall/sensitivity (the ratio of correctly classified positive values to all positive values). As the threshold shifts (to left) to increase the TPR, it incorrectly classifies more and more negative values as positive and vice versa. The total **area under the ROC curve (AUROC)** is 1, indicating a perfect classifier (and area of 0.5 represents a completely random classifier). This metric is similar to precision-recall and F1 - use them when the positive class is scarce or when you care more about the false positives than the false negatives, use ROC otherwise."
   ]
  },
  {
   "cell_type": "code",
   "execution_count": 18,
   "metadata": {},
   "outputs": [],
   "source": [
    "# Analysis meant as demonstration of performance measures only - no EDA, data cleaning,\n",
    "#    or model tuning has been performed\n",
    "\n",
    "# Import classification models\n",
    "from sklearn.ensemble import RandomForestClassifier, GradientBoostingClassifier\n",
    "from sklearn.linear_model import LogisticRegression\n",
    "\n",
    "# Import scikit learn metrics\n",
    "from sklearn.model_selection import cross_val_score, cross_val_predict\n",
    "from sklearn.metrics import confusion_matrix, precision_score, recall_score, f1_score, precision_recall_curve, roc_curve, roc_auc_score"
   ]
  },
  {
   "cell_type": "code",
   "execution_count": 3,
   "metadata": {},
   "outputs": [
    {
     "data": {
      "text/plain": [
       "dict_keys(['data', 'target', 'target_names', 'DESCR', 'feature_names'])"
      ]
     },
     "execution_count": 3,
     "metadata": {},
     "output_type": "execute_result"
    }
   ],
   "source": [
    "# Import toy wine dataset from scikit learn\n",
    "wine = sklearn.datasets.load_wine()\n",
    "wine.keys()"
   ]
  },
  {
   "cell_type": "code",
   "execution_count": 4,
   "metadata": {},
   "outputs": [],
   "source": [
    "# Create DataFrame to lightly explore data\n",
    "# wdf = pd.DataFrame(wine['data'], columns=wine['feature_names'])\n",
    "# wdf.head()"
   ]
  },
  {
   "cell_type": "code",
   "execution_count": 5,
   "metadata": {},
   "outputs": [
    {
     "name": "stdout",
     "output_type": "stream",
     "text": [
      "(142, 13) (36, 13) (142,) (36,)\n"
     ]
    }
   ],
   "source": [
    "X = wine['data']\n",
    "\n",
    "# Convert labels to binary classification problem\n",
    "#    postive: class_0, negative: class_1 or class_2)\n",
    "y = (wine['target'] == 0).astype(int)\n",
    "\n",
    "# Split into training and testing sets\n",
    "X_train, X_test, y_train, y_test = train_test_split(X, y,\n",
    "                                                    test_size=0.2,\n",
    "                                                    random_state=42,\n",
    "                                                    stratify=y)\n",
    "\n",
    "print(X_train.shape, X_test.shape, y_train.shape, y_test.shape)"
   ]
  },
  {
   "cell_type": "code",
   "execution_count": 6,
   "metadata": {},
   "outputs": [
    {
     "data": {
      "text/plain": [
       "RandomForestClassifier(bootstrap=True, class_weight=None, criterion='gini',\n",
       "            max_depth=None, max_features='auto', max_leaf_nodes=None,\n",
       "            min_impurity_decrease=0.0, min_impurity_split=None,\n",
       "            min_samples_leaf=5, min_samples_split=2,\n",
       "            min_weight_fraction_leaf=0.0, n_estimators=50, n_jobs=None,\n",
       "            oob_score=False, random_state=42, verbose=0, warm_start=False)"
      ]
     },
     "execution_count": 6,
     "metadata": {},
     "output_type": "execute_result"
    }
   ],
   "source": [
    "# Create and fit a RandomForestClassifier\n",
    "rf = RandomForestClassifier(n_estimators=50, min_samples_leaf=5, random_state=42)\n",
    "rf.fit(X_train, y_train)"
   ]
  },
  {
   "cell_type": "code",
   "execution_count": 8,
   "metadata": {},
   "outputs": [
    {
     "data": {
      "text/plain": [
       "array([[94,  1],\n",
       "       [ 3, 44]])"
      ]
     },
     "execution_count": 8,
     "metadata": {},
     "output_type": "execute_result"
    }
   ],
   "source": [
    "# Create a confusion matrix - predictions vs labels\n",
    "y_train_pred_rf = cross_val_predict(rf, X_train, y_train, cv=3)\n",
    "\n",
    "cm_rf = confusion_matrix(y_train, y_train_pred_rf)\n",
    "cm_rf"
   ]
  },
  {
   "cell_type": "code",
   "execution_count": 9,
   "metadata": {},
   "outputs": [
    {
     "name": "stdout",
     "output_type": "stream",
     "text": [
      "Precision: 0.9778\n",
      "Recall/Sensitivity/TPR: 0.9362\n",
      "F1 score: 0.9565\n"
     ]
    }
   ],
   "source": [
    "# Precision: what percent of the positive preditions were correct?\n",
    "p = precision_score(y_train, y_train_pred_rf)\n",
    "\n",
    "# Recall: how many positive labels were correctly classified\n",
    "r = recall_score(y_train, y_train_pred_rf)\n",
    "\n",
    "# F1: similar precision and recall\n",
    "f_1 = f1_score(y_train, y_train_pred_rf)\n",
    "\n",
    "print('Precision: {0:.4f}'.format(p))\n",
    "print('Recall/Sensitivity/TPR: {0:.4f}'.format(r))\n",
    "print('F1 score: {0:.4f}'.format(f_1))"
   ]
  },
  {
   "cell_type": "code",
   "execution_count": 13,
   "metadata": {},
   "outputs": [
    {
     "name": "stdout",
     "output_type": "stream",
     "text": [
      "Method: accuracy\n",
      "Results: [0.9375     1.         0.97826087]\n",
      "\n",
      "Method: precision\n",
      "Results: [1.     1.     0.9375]\n",
      "\n",
      "Method: recall\n",
      "Results: [0.8125 1.     1.    ]\n",
      "\n",
      "Method: f1\n",
      "Results: [0.89655172 1.         0.96774194]\n",
      "\n",
      "Method: roc_auc\n",
      "Results: [1. 1. 1.]\n",
      "\n",
      "              precision    recall  f1-score   support\n",
      "\n",
      "           0       0.97      0.99      0.98        95\n",
      "           1       0.98      0.94      0.96        47\n",
      "\n",
      "   micro avg       0.97      0.97      0.97       142\n",
      "   macro avg       0.97      0.96      0.97       142\n",
      "weighted avg       0.97      0.97      0.97       142\n",
      "\n"
     ]
    }
   ],
   "source": [
    "# Check different score types across 3-fold cross validation\n",
    "score_types = ['accuracy', 'precision', 'recall', 'f1', 'roc_auc']\n",
    "\n",
    "for score in score_types:\n",
    "    vals = cross_val_score(rf, X_train, y_train, cv=3, scoring=score)\n",
    "    print('Method: {}'.format(score))\n",
    "    print('Results: {}'.format(vals))\n",
    "    print()\n",
    "\n",
    "# See multiple scoring methods with classification_report(y_true, y_predicted)\n",
    "from sklearn.metrics import classification_report\n",
    "print(classification_report(y_train, y_train_pred_rf))"
   ]
  },
  {
   "cell_type": "code",
   "execution_count": 14,
   "metadata": {},
   "outputs": [
    {
     "data": {
      "image/png": "[encoded data removed]",
      "text/plain": [
       "<Figure size 432x288 with 1 Axes>"
      ]
     },
     "metadata": {
      "needs_background": "light"
     },
     "output_type": "display_data"
    }
   ],
   "source": [
    "# Generate RandomForestClassifier scores to plot P-R and ROC\n",
    "# sklearn classifiers have either a decision_function() (returns decision scores) or\n",
    "#    predict_proba() (returns array of rows for each instance, cols for neg and pos class probs)\n",
    "# cross_val_predict returns an array with probabilities for negative and positive classes\n",
    "y_scores_rf = cross_val_predict(rf, X_train, y_train, cv=3, method='predict_proba')\n",
    "\n",
    "precisions_rf, recalls_rf, thresholds_rf = precision_recall_curve(y_train, y_scores_rf[:, 1])\n",
    "\n",
    "# Plot precision and recall values against thresholds\n",
    "plt.plot(thresholds_rf, precisions_rf[:-1], \"b--\", label=\"Precision\")\n",
    "plt.plot(thresholds_rf, recalls_rf[:-1], \"r--\", label=\"Recall\")\n",
    "plt.legend()\n",
    "plt.ylim([0, 1.1])\n",
    "# plt.margins(0.2)\n",
    "plt.xlabel(\"Threshold\")\n",
    "plt.show()"
   ]
  },
  {
   "cell_type": "code",
   "execution_count": 17,
   "metadata": {},
   "outputs": [
    {
     "name": "stdout",
     "output_type": "stream",
     "text": [
      "Area under the ROC curve: 0.9973\n"
     ]
    },
    {
     "data": {
      "text/plain": [
       "Text(0.5, 1.0, 'Random Forest ROC Curve')"
      ]
     },
     "execution_count": 17,
     "metadata": {},
     "output_type": "execute_result"
    },
    {
     "data": {
      "image/png": "[encoded data removed]",
      "text/plain": [
       "<Figure size 432x288 with 1 Axes>"
      ]
     },
     "metadata": {
      "needs_background": "light"
     },
     "output_type": "display_data"
    }
   ],
   "source": [
    "# ROC Curve\n",
    "fpr_rf, tpr_rf, thresholds_roc_rf = roc_curve(y_train, y_scores_rf[:, 1])\n",
    "auc_rf = roc_auc_score(y_train, y_scores_rf[:, 1])\n",
    "\n",
    "print('Area under the ROC curve: {0:.4f}'.format(auc_rf))\n",
    "\n",
    "# Plot ROC curve\n",
    "plt.plot(fpr_rf, tpr_rf)\n",
    "plt.plot([0, 1], [0, 1], \"k--\")\n",
    "plt.axis([-0.1, 1.1, 0, 1.1])\n",
    "plt.xlabel(\"False Positive Rate\")\n",
    "plt.ylabel(\"True Positive Rate\")\n",
    "plt.title(\"Random Forest ROC Curve\")"
   ]
  },
  {
   "cell_type": "code",
   "execution_count": null,
   "metadata": {},
   "outputs": [],
   "source": [
    "# Grid search cross validation to tune model hyperparameters\n",
    "\n"
   ]
  },
  {
   "cell_type": "markdown",
   "metadata": {},
   "source": [
    "### Regression\n",
    "\n",
    "Regression problems use a dataset's features to try to make real-valued predictions, such as the price of a stock or value of a property.\n",
    "\n",
    "The **$R^2$** score gives the amount of variance in the target variable that's predicted by features in the model."
   ]
  },
  {
   "cell_type": "code",
   "execution_count": 96,
   "metadata": {},
   "outputs": [],
   "source": [
    "# Analysis meant as demonstration of performance measures only - no EDA, data cleaning,\n",
    "#    or model tuning has been performed\n",
    "\n",
    "# Import model\n",
    "from sklearn.ensemble import RandomForestRegressor\n",
    "\n",
    "# Import scikit learn metrics\n",
    "from sklearn.metrics import mean_absolute_error, mean_squared_error, r2_score"
   ]
  },
  {
   "cell_type": "code",
   "execution_count": 97,
   "metadata": {},
   "outputs": [
    {
     "data": {
      "text/plain": [
       "dict_keys(['data', 'target', 'feature_names', 'DESCR', 'filename'])"
      ]
     },
     "execution_count": 97,
     "metadata": {},
     "output_type": "execute_result"
    }
   ],
   "source": [
    "# Import toy Boston housing dataset from scikit learn\n",
    "boston = sklearn.datasets.load_boston()\n",
    "boston.keys()"
   ]
  },
  {
   "cell_type": "code",
   "execution_count": 105,
   "metadata": {},
   "outputs": [],
   "source": [
    "# Create DataFrame to lightly explore data\n",
    "# bdf = pd.DataFrame(boston['data'], columns=boston['feature_names'])\n",
    "# bdf.head()"
   ]
  },
  {
   "cell_type": "code",
   "execution_count": 99,
   "metadata": {},
   "outputs": [
    {
     "name": "stdout",
     "output_type": "stream",
     "text": [
      "(404, 13) (102, 13) (404,) (102,)\n"
     ]
    }
   ],
   "source": [
    "X_reg = boston['data']\n",
    "y_reg = boston['target']\n",
    "\n",
    "# Split into training and testing sets\n",
    "X_reg_train, X_reg_test, y_reg_train, y_reg_test = train_test_split(X_reg, y_reg,\n",
    "                                                                    test_size=0.2,\n",
    "                                                                    random_state=42)\n",
    "\n",
    "print(X_reg_train.shape, X_reg_test.shape, y_reg_train.shape, y_reg_test.shape)"
   ]
  },
  {
   "cell_type": "code",
   "execution_count": 100,
   "metadata": {},
   "outputs": [
    {
     "data": {
      "text/plain": [
       "RandomForestRegressor(bootstrap=True, criterion='mse', max_depth=None,\n",
       "           max_features='auto', max_leaf_nodes=None,\n",
       "           min_impurity_decrease=0.0, min_impurity_split=None,\n",
       "           min_samples_leaf=1, min_samples_split=2,\n",
       "           min_weight_fraction_leaf=0.0, n_estimators=100, n_jobs=None,\n",
       "           oob_score=False, random_state=42, verbose=0, warm_start=False)"
      ]
     },
     "execution_count": 100,
     "metadata": {},
     "output_type": "execute_result"
    }
   ],
   "source": [
    "# Fit model\n",
    "rf_reg = RandomForestRegressor(n_estimators=100, random_state=42)\n",
    "rf_reg.fit(X_reg_train, y_reg_train)"
   ]
  },
  {
   "cell_type": "code",
   "execution_count": 103,
   "metadata": {},
   "outputs": [
    {
     "name": "stdout",
     "output_type": "stream",
     "text": [
      "Method: neg_mean_absolute_error\n",
      "Results: [-2.35057778 -3.10021481 -2.18285075]\n",
      "Method: neg_mean_squared_error\n",
      "Results: [-15.21401021 -21.45936131 -12.51967336]\n",
      "Method: r2\n",
      "Results: [0.83318101 0.77951458 0.82577604]\n"
     ]
    }
   ],
   "source": [
    "# Check different score types across 3-fold cross validation\n",
    "reg_score_types = ['neg_mean_absolute_error', 'neg_mean_squared_error', 'r2']\n",
    "\n",
    "for score in reg_score_types:\n",
    "    reg_vals = cross_val_score(rf_reg, X_reg_train, y_reg_train, cv=3, scoring=score)\n",
    "    print('Method: {}'.format(score))\n",
    "    print('Results: {}'.format(reg_vals))\n"
   ]
  },
  {
   "cell_type": "code",
   "execution_count": 106,
   "metadata": {},
   "outputs": [
    {
     "name": "stdout",
     "output_type": "stream",
     "text": [
      "Mean Abs Error score on test: 2.0494\n",
      "Mean Squared Error score on test: 8.0913\n",
      "R2 score on test: 0.8897\n"
     ]
    }
   ],
   "source": [
    "pred_reg = rf_reg.predict(X_reg_test)\n",
    "print('Mean Abs Error score on test: {0:.4f}'.format(mean_absolute_error(y_reg_test, pred_reg)))\n",
    "print('Mean Squared Error score on test: {0:.4f}'.format(mean_squared_error(y_reg_test, pred_reg)))\n",
    "print('R2 score on test: {0:.4f}'.format(r2_score(y_reg_test, pred_reg)))"
   ]
  },
  {
   "cell_type": "code",
   "execution_count": 108,
   "metadata": {},
   "outputs": [
    {
     "data": {
      "image/png": "[encoded data removed]",
      "text/plain": [
       "<Figure size 432x288 with 1 Axes>"
      ]
     },
     "metadata": {},
     "output_type": "display_data"
    }
   ],
   "source": [
    "# Plot predicted test set values vs. the actual test set values\n",
    "# Values should roughly fall along a 45 degree diagonal\n",
    "plt.plot(y_reg_test, pred_reg, marker='.', linestyle='none')\n",
    "plt.title('Actual vs. Predicted Test Values')\n",
    "plt.xlabel('Test Set Values')\n",
    "plt.ylabel('Model Predicted Values')\n",
    "plt.show()"
   ]
  }
 ],
 "metadata": {
  "kernelspec": {
   "display_name": "Python 3",
   "language": "python",
   "name": "python3"
  },
  "language_info": {
   "codemirror_mode": {
    "name": "ipython",
    "version": 3
   },
   "file_extension": ".py",
   "mimetype": "text/x-python",
   "name": "python",
   "nbconvert_exporter": "python",
   "pygments_lexer": "ipython3",
   "version": "3.7.3"
  }
 },
 "nbformat": 4,
 "nbformat_minor": 2
}
