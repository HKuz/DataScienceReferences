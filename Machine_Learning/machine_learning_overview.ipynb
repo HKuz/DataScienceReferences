{
 "cells": [
  {
   "cell_type": "markdown",
   "metadata": {},
   "source": [
    "# Overview of Machine Learning\n",
    "\n",
    "Machine Learning (ML) is a subfield of Artificial Intelligence that applies math and computation to build models from data. Like many modeling tasks, machine learning seeks to cut through the messiness, chaos, and complexity within the data of a real-world system to find the underlying relationships, trends, or patterns. The model is a mapping of inputs (the data) to an output, which may be to make a prediction, understand the structure of the data better, make a recommendation, or find the optimal way to perform a task."
   ]
  }
 ],
 "metadata": {
  "kernelspec": {
   "display_name": "Python 3",
   "language": "python",
   "name": "python3"
  },
  "language_info": {
   "codemirror_mode": {
    "name": "ipython",
    "version": 3
   },
   "file_extension": ".py",
   "mimetype": "text/x-python",
   "name": "python",
   "nbconvert_exporter": "python",
   "pygments_lexer": "ipython3",
   "version": "3.7.3"
  }
 },
 "nbformat": 4,
 "nbformat_minor": 2
}
