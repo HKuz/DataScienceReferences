{
 "cells": [
  {
   "cell_type": "markdown",
   "metadata": {},
   "source": [
    "# Overview of Machine Learning\n",
    "\n",
    "Machine Learning (ML) is a subfield of Artificial Intelligence that uses computation to build models from data. Like modeling tasks in other fields, the goal of machine learning is to represent a real-world system in a meaningful way. Generally, ML algorithms take various forms of data and look for underlying relationships that may have gone unnoticed by humans - all without being explicitly programmed to do so!\n",
    "\n",
    "The algorithms themselves are based on statistics and mathematical optimization techniques. There are different types of algorithms available, and the appropriate ones to apply will largely depend on the data and the problem at hand. Algorithms are usually grouped by the following type:\n",
    "\n",
    "- **Supervised learning algorithms**: learn patterns from labeled data then apply those patterns to make accurate predictions about new, similar data. You're creating a prediction machine\n",
    "- **Unsupervised learning algorithms**: give insight into the structure of the data or reduce the number of variables (or features) to those that are relevant. You're creating an association machine\n",
    "- **Recommender system algorithms**: learn relationships within data to make useful recommendations. You're creating a (surprise!) recommendation machine\n",
    "- **Reinforcement learning algorithms**: find the optimal way to perform a task or learn how to interact in an environment, given a system of rewards and punishments. You're creating a decision machine\n",
    "\n",
    "Machine Learning is closely related to predictive statistics, and is sometimes referred to as predictive analytics or predictive modeling."
   ]
  },
  {
   "cell_type": "code",
   "execution_count": 1,
   "metadata": {},
   "outputs": [],
   "source": [
    "# Import libraries\n",
    "import numpy as np\n",
    "import pandas as pd\n",
    "\n",
    "import matplotlib.pyplot as plt\n",
    "%matplotlib inline\n",
    "import seaborn as sns\n",
    "sns.set_style('darkgrid')\n",
    "\n",
    "import sklearn.datasets\n",
    "from sklearn.model_selection import train_test_split"
   ]
  },
  {
   "cell_type": "markdown",
   "metadata": {},
   "source": [
    "## Supervised Learning\n",
    "\n",
    "Supervised learning is in the realm of building models to make predictions. The data that are fed to the machine learning algorithms include the \"answer\" or outcome the model needs to predict, which is also called the target variable or label. The model uses this to learn the relationships between the independent variables (the input, or features) and the labels, and that mapping is later applied to new, unseen data to make predictions going forward.\n",
    "\n",
    "Supervised learning is further broken down by the type of problem - there are **classification** problems, which predict a class or category of an observation, and **regression** problems, which predict a numerical value for an observation."
   ]
  },
  {
   "cell_type": "markdown",
   "metadata": {},
   "source": [
    "### Classification and its Performance Measures\n",
    "\n",
    "Examples of classification algorithms:\n",
    "\n",
    "- **Logistic Regression**: applies sigmoid function to linear regression, can use either $L_1$ or $L_2$ norm\n",
    "- **$k$-Nearest Neighbors (kNN)**: finds $k$-nearest neighbors based on a similarity function and uses majority vote to determine the class\n",
    "- **Random forest classifier**:\n",
    "- **Stochastic Gradient Descent classifier**: capable of handling large datasets and training in batches (or each instance independently)\n",
    "- [TO COME]\n",
    "\n",
    "#### Performance Measures\n",
    "\n",
    "Classification problems use performance measures that tie closely to the **confusion matrix**, which is a grid of actual labels against the model's predicted results. The best performance measure to optimize for a model will depend on the specifics of the problem.\n",
    "\n",
    "| Actual: | Predicted False | Predicted True |\n",
    "| ----- | ----- | ----- |\n",
    "| **Is False** | True Negative (TN) | False Positive (FP) |\n",
    "| **Is True** | False Negative (FN) | True Positive (TP) |\n",
    "\n",
    "\n",
    "A **type I error** (false negative) is when the label is true but the observation is incorrectly classified as false. The probability of a type I error is called **alpha risk**. A **type II error** (false positive) is when the label is false but the observation is incorrectly classified as true. The probability of a type II error is called **beta risk**.\n",
    "\n",
    "- **Accuracy**: the fraction of correct predictions to total predictions $\\frac{TN + TP}{TN + FN + TP + FP}$\n",
    "- **Precision**: the rate of true positives to everything predicted as positive. In other words, when the model claims an observation is positive, it's correct this percent of the time. High precision means there are few observations in the negative class falsely predicted as positives. Precision is a good metric to use when what is classified as positive MUST be correct (predicting appropriate videos for kids) $\\frac{TP}{TP + FP}$\n",
    "- **Recall (sensitivity, true positive rate, TPR)**: the rate of true positives to everything that is positive, or in other words, the percent of all the positives the model detects. High recall shows the model is good at detective the positive class. Recall is an appropriate metric to use when you can't let any positives slip through the cracks (like predicting malignant tumors so patient receives timely treatment) $\\frac{TP}{TP + FN}$\n",
    "- **F1 Score**: the harmonic mean of precision and recall - both values for precision and recall must be high to approach the highest possible value of 1. F1 score is good for situations that don't favor either precision or recall, but want to maximize both, or for when the positive class is scarce $\\frac{2}{\\frac{1}{precision} + \\frac{1}{recall}} = \\frac{TP}{TP + \\frac{FN + FP}{2}} = 2 \\cdot \\frac{\\text{precision} \\cdot \\text{recall}}{\\text{precision} + \\text{recall}}$\n",
    "- **Specificity (true negative rate, TNR)**: the rate of true negatives to everything that is negative $\\frac{TN}{TN + FP}$\n",
    "- **False positive rate (FPR)**: the rate of negative values falsely classified as positive to everything that is negative $\\frac{FP}{TN + FP}$\n",
    "- **False negative rate (FNR)**: the rate of positive values falsely classified as negative to everything that is  positive $\\frac{FN}{TP + FN}$\n",
    "- **Receiver Operating Characteristic (ROC)**: plots the FPR (the ratio of incorrectly classified negative values to all negative values) against the TPR/recall/sensitivity (the ratio of correctly classified positive values to all positive values). As the threshold shifts (to left) to increase the TPR, it incorrectly classifies more and more negative values as positive and vice versa. The total **area under the ROC curve (AUROC)** is 1, indicating a perfect classifier (and area of 0.5 represents a completely random classifier). This metric is similar to precision-recall and F1 - use them when the positive class is scarce or when you care more about the false positives than the false negatives, use ROC otherwise."
   ]
  },
  {
   "cell_type": "code",
   "execution_count": 2,
   "metadata": {},
   "outputs": [],
   "source": [
    "# Analysis meant as demonstration of performance measures, a simple\n",
    "#    pipeline, and hyperparameter tuning with cross validation.\n",
    "#    No real EDA, data cleaning, or feature engineering was performed\n",
    "\n",
    "# Import classification models\n",
    "from sklearn.ensemble import RandomForestClassifier, GradientBoostingClassifier\n",
    "from sklearn.linear_model import LogisticRegression\n",
    "\n",
    "# Import scikit learn metrics\n",
    "from sklearn.model_selection import cross_val_score, cross_val_predict\n",
    "from sklearn.metrics import confusion_matrix, precision_score, recall_score, f1_score, precision_recall_curve, roc_curve, roc_auc_score, classification_report\n",
    "\n",
    "# Import Pipeline\n",
    "from sklearn.pipeline import Pipeline\n",
    "\n",
    "# Import preprocessing and grid search cross validation\n",
    "from sklearn.preprocessing import StandardScaler\n",
    "from sklearn.model_selection import GridSearchCV"
   ]
  },
  {
   "cell_type": "code",
   "execution_count": 3,
   "metadata": {},
   "outputs": [
    {
     "data": {
      "text/plain": [
       "dict_keys(['data', 'target', 'target_names', 'DESCR', 'feature_names'])"
      ]
     },
     "execution_count": 3,
     "metadata": {},
     "output_type": "execute_result"
    }
   ],
   "source": [
    "# Import toy wine dataset from scikit learn\n",
    "wine = sklearn.datasets.load_wine()\n",
    "wine.keys()"
   ]
  },
  {
   "cell_type": "code",
   "execution_count": 4,
   "metadata": {},
   "outputs": [
    {
     "data": {
      "text/html": [
       "<div>\n",
       "<style scoped>\n",
       "    .dataframe tbody tr th:only-of-type {\n",
       "        vertical-align: middle;\n",
       "    }\n",
       "\n",
       "    .dataframe tbody tr th {\n",
       "        vertical-align: top;\n",
       "    }\n",
       "\n",
       "    .dataframe thead th {\n",
       "        text-align: right;\n",
       "    }\n",
       "</style>\n",
       "<table border=\"1\" class=\"dataframe\">\n",
       "  <thead>\n",
       "    <tr style=\"text-align: right;\">\n",
       "      <th></th>\n",
       "      <th>alcohol</th>\n",
       "      <th>malic_acid</th>\n",
       "      <th>ash</th>\n",
       "      <th>alcalinity_of_ash</th>\n",
       "      <th>magnesium</th>\n",
       "      <th>total_phenols</th>\n",
       "      <th>flavanoids</th>\n",
       "      <th>nonflavanoid_phenols</th>\n",
       "      <th>proanthocyanins</th>\n",
       "      <th>color_intensity</th>\n",
       "      <th>hue</th>\n",
       "      <th>od280/od315_of_diluted_wines</th>\n",
       "      <th>proline</th>\n",
       "    </tr>\n",
       "  </thead>\n",
       "  <tbody>\n",
       "    <tr>\n",
       "      <th>0</th>\n",
       "      <td>14.23</td>\n",
       "      <td>1.71</td>\n",
       "      <td>2.43</td>\n",
       "      <td>15.6</td>\n",
       "      <td>127.0</td>\n",
       "      <td>2.80</td>\n",
       "      <td>3.06</td>\n",
       "      <td>0.28</td>\n",
       "      <td>2.29</td>\n",
       "      <td>5.64</td>\n",
       "      <td>1.04</td>\n",
       "      <td>3.92</td>\n",
       "      <td>1065.0</td>\n",
       "    </tr>\n",
       "    <tr>\n",
       "      <th>1</th>\n",
       "      <td>13.20</td>\n",
       "      <td>1.78</td>\n",
       "      <td>2.14</td>\n",
       "      <td>11.2</td>\n",
       "      <td>100.0</td>\n",
       "      <td>2.65</td>\n",
       "      <td>2.76</td>\n",
       "      <td>0.26</td>\n",
       "      <td>1.28</td>\n",
       "      <td>4.38</td>\n",
       "      <td>1.05</td>\n",
       "      <td>3.40</td>\n",
       "      <td>1050.0</td>\n",
       "    </tr>\n",
       "    <tr>\n",
       "      <th>2</th>\n",
       "      <td>13.16</td>\n",
       "      <td>2.36</td>\n",
       "      <td>2.67</td>\n",
       "      <td>18.6</td>\n",
       "      <td>101.0</td>\n",
       "      <td>2.80</td>\n",
       "      <td>3.24</td>\n",
       "      <td>0.30</td>\n",
       "      <td>2.81</td>\n",
       "      <td>5.68</td>\n",
       "      <td>1.03</td>\n",
       "      <td>3.17</td>\n",
       "      <td>1185.0</td>\n",
       "    </tr>\n",
       "    <tr>\n",
       "      <th>3</th>\n",
       "      <td>14.37</td>\n",
       "      <td>1.95</td>\n",
       "      <td>2.50</td>\n",
       "      <td>16.8</td>\n",
       "      <td>113.0</td>\n",
       "      <td>3.85</td>\n",
       "      <td>3.49</td>\n",
       "      <td>0.24</td>\n",
       "      <td>2.18</td>\n",
       "      <td>7.80</td>\n",
       "      <td>0.86</td>\n",
       "      <td>3.45</td>\n",
       "      <td>1480.0</td>\n",
       "    </tr>\n",
       "    <tr>\n",
       "      <th>4</th>\n",
       "      <td>13.24</td>\n",
       "      <td>2.59</td>\n",
       "      <td>2.87</td>\n",
       "      <td>21.0</td>\n",
       "      <td>118.0</td>\n",
       "      <td>2.80</td>\n",
       "      <td>2.69</td>\n",
       "      <td>0.39</td>\n",
       "      <td>1.82</td>\n",
       "      <td>4.32</td>\n",
       "      <td>1.04</td>\n",
       "      <td>2.93</td>\n",
       "      <td>735.0</td>\n",
       "    </tr>\n",
       "  </tbody>\n",
       "</table>\n",
       "</div>"
      ],
      "text/plain": [
       "   alcohol  malic_acid   ash  alcalinity_of_ash  magnesium  total_phenols  \\\n",
       "0    14.23        1.71  2.43               15.6      127.0           2.80   \n",
       "1    13.20        1.78  2.14               11.2      100.0           2.65   \n",
       "2    13.16        2.36  2.67               18.6      101.0           2.80   \n",
       "3    14.37        1.95  2.50               16.8      113.0           3.85   \n",
       "4    13.24        2.59  2.87               21.0      118.0           2.80   \n",
       "\n",
       "   flavanoids  nonflavanoid_phenols  proanthocyanins  color_intensity   hue  \\\n",
       "0        3.06                  0.28             2.29             5.64  1.04   \n",
       "1        2.76                  0.26             1.28             4.38  1.05   \n",
       "2        3.24                  0.30             2.81             5.68  1.03   \n",
       "3        3.49                  0.24             2.18             7.80  0.86   \n",
       "4        2.69                  0.39             1.82             4.32  1.04   \n",
       "\n",
       "   od280/od315_of_diluted_wines  proline  \n",
       "0                          3.92   1065.0  \n",
       "1                          3.40   1050.0  \n",
       "2                          3.17   1185.0  \n",
       "3                          3.45   1480.0  \n",
       "4                          2.93    735.0  "
      ]
     },
     "execution_count": 4,
     "metadata": {},
     "output_type": "execute_result"
    }
   ],
   "source": [
    "# Create DataFrame to lightly explore data\n",
    "wdf = pd.DataFrame(wine['data'], columns=wine['feature_names'])\n",
    "wdf.head()"
   ]
  },
  {
   "cell_type": "code",
   "execution_count": 5,
   "metadata": {},
   "outputs": [
    {
     "data": {
      "text/html": [
       "<div>\n",
       "<style scoped>\n",
       "    .dataframe tbody tr th:only-of-type {\n",
       "        vertical-align: middle;\n",
       "    }\n",
       "\n",
       "    .dataframe tbody tr th {\n",
       "        vertical-align: top;\n",
       "    }\n",
       "\n",
       "    .dataframe thead th {\n",
       "        text-align: right;\n",
       "    }\n",
       "</style>\n",
       "<table border=\"1\" class=\"dataframe\">\n",
       "  <thead>\n",
       "    <tr style=\"text-align: right;\">\n",
       "      <th></th>\n",
       "      <th>alcohol</th>\n",
       "      <th>malic_acid</th>\n",
       "      <th>ash</th>\n",
       "      <th>alcalinity_of_ash</th>\n",
       "      <th>magnesium</th>\n",
       "      <th>total_phenols</th>\n",
       "      <th>flavanoids</th>\n",
       "      <th>nonflavanoid_phenols</th>\n",
       "      <th>proanthocyanins</th>\n",
       "      <th>color_intensity</th>\n",
       "      <th>hue</th>\n",
       "      <th>od280/od315_of_diluted_wines</th>\n",
       "      <th>proline</th>\n",
       "    </tr>\n",
       "  </thead>\n",
       "  <tbody>\n",
       "    <tr>\n",
       "      <th>count</th>\n",
       "      <td>178.000000</td>\n",
       "      <td>178.000000</td>\n",
       "      <td>178.000000</td>\n",
       "      <td>178.000000</td>\n",
       "      <td>178.000000</td>\n",
       "      <td>178.000000</td>\n",
       "      <td>178.000000</td>\n",
       "      <td>178.000000</td>\n",
       "      <td>178.000000</td>\n",
       "      <td>178.000000</td>\n",
       "      <td>178.000000</td>\n",
       "      <td>178.000000</td>\n",
       "      <td>178.000000</td>\n",
       "    </tr>\n",
       "    <tr>\n",
       "      <th>mean</th>\n",
       "      <td>13.000618</td>\n",
       "      <td>2.336348</td>\n",
       "      <td>2.366517</td>\n",
       "      <td>19.494944</td>\n",
       "      <td>99.741573</td>\n",
       "      <td>2.295112</td>\n",
       "      <td>2.029270</td>\n",
       "      <td>0.361854</td>\n",
       "      <td>1.590899</td>\n",
       "      <td>5.058090</td>\n",
       "      <td>0.957449</td>\n",
       "      <td>2.611685</td>\n",
       "      <td>746.893258</td>\n",
       "    </tr>\n",
       "    <tr>\n",
       "      <th>std</th>\n",
       "      <td>0.811827</td>\n",
       "      <td>1.117146</td>\n",
       "      <td>0.274344</td>\n",
       "      <td>3.339564</td>\n",
       "      <td>14.282484</td>\n",
       "      <td>0.625851</td>\n",
       "      <td>0.998859</td>\n",
       "      <td>0.124453</td>\n",
       "      <td>0.572359</td>\n",
       "      <td>2.318286</td>\n",
       "      <td>0.228572</td>\n",
       "      <td>0.709990</td>\n",
       "      <td>314.907474</td>\n",
       "    </tr>\n",
       "    <tr>\n",
       "      <th>min</th>\n",
       "      <td>11.030000</td>\n",
       "      <td>0.740000</td>\n",
       "      <td>1.360000</td>\n",
       "      <td>10.600000</td>\n",
       "      <td>70.000000</td>\n",
       "      <td>0.980000</td>\n",
       "      <td>0.340000</td>\n",
       "      <td>0.130000</td>\n",
       "      <td>0.410000</td>\n",
       "      <td>1.280000</td>\n",
       "      <td>0.480000</td>\n",
       "      <td>1.270000</td>\n",
       "      <td>278.000000</td>\n",
       "    </tr>\n",
       "    <tr>\n",
       "      <th>25%</th>\n",
       "      <td>12.362500</td>\n",
       "      <td>1.602500</td>\n",
       "      <td>2.210000</td>\n",
       "      <td>17.200000</td>\n",
       "      <td>88.000000</td>\n",
       "      <td>1.742500</td>\n",
       "      <td>1.205000</td>\n",
       "      <td>0.270000</td>\n",
       "      <td>1.250000</td>\n",
       "      <td>3.220000</td>\n",
       "      <td>0.782500</td>\n",
       "      <td>1.937500</td>\n",
       "      <td>500.500000</td>\n",
       "    </tr>\n",
       "    <tr>\n",
       "      <th>50%</th>\n",
       "      <td>13.050000</td>\n",
       "      <td>1.865000</td>\n",
       "      <td>2.360000</td>\n",
       "      <td>19.500000</td>\n",
       "      <td>98.000000</td>\n",
       "      <td>2.355000</td>\n",
       "      <td>2.135000</td>\n",
       "      <td>0.340000</td>\n",
       "      <td>1.555000</td>\n",
       "      <td>4.690000</td>\n",
       "      <td>0.965000</td>\n",
       "      <td>2.780000</td>\n",
       "      <td>673.500000</td>\n",
       "    </tr>\n",
       "    <tr>\n",
       "      <th>75%</th>\n",
       "      <td>13.677500</td>\n",
       "      <td>3.082500</td>\n",
       "      <td>2.557500</td>\n",
       "      <td>21.500000</td>\n",
       "      <td>107.000000</td>\n",
       "      <td>2.800000</td>\n",
       "      <td>2.875000</td>\n",
       "      <td>0.437500</td>\n",
       "      <td>1.950000</td>\n",
       "      <td>6.200000</td>\n",
       "      <td>1.120000</td>\n",
       "      <td>3.170000</td>\n",
       "      <td>985.000000</td>\n",
       "    </tr>\n",
       "    <tr>\n",
       "      <th>max</th>\n",
       "      <td>14.830000</td>\n",
       "      <td>5.800000</td>\n",
       "      <td>3.230000</td>\n",
       "      <td>30.000000</td>\n",
       "      <td>162.000000</td>\n",
       "      <td>3.880000</td>\n",
       "      <td>5.080000</td>\n",
       "      <td>0.660000</td>\n",
       "      <td>3.580000</td>\n",
       "      <td>13.000000</td>\n",
       "      <td>1.710000</td>\n",
       "      <td>4.000000</td>\n",
       "      <td>1680.000000</td>\n",
       "    </tr>\n",
       "  </tbody>\n",
       "</table>\n",
       "</div>"
      ],
      "text/plain": [
       "          alcohol  malic_acid         ash  alcalinity_of_ash   magnesium  \\\n",
       "count  178.000000  178.000000  178.000000         178.000000  178.000000   \n",
       "mean    13.000618    2.336348    2.366517          19.494944   99.741573   \n",
       "std      0.811827    1.117146    0.274344           3.339564   14.282484   \n",
       "min     11.030000    0.740000    1.360000          10.600000   70.000000   \n",
       "25%     12.362500    1.602500    2.210000          17.200000   88.000000   \n",
       "50%     13.050000    1.865000    2.360000          19.500000   98.000000   \n",
       "75%     13.677500    3.082500    2.557500          21.500000  107.000000   \n",
       "max     14.830000    5.800000    3.230000          30.000000  162.000000   \n",
       "\n",
       "       total_phenols  flavanoids  nonflavanoid_phenols  proanthocyanins  \\\n",
       "count     178.000000  178.000000            178.000000       178.000000   \n",
       "mean        2.295112    2.029270              0.361854         1.590899   \n",
       "std         0.625851    0.998859              0.124453         0.572359   \n",
       "min         0.980000    0.340000              0.130000         0.410000   \n",
       "25%         1.742500    1.205000              0.270000         1.250000   \n",
       "50%         2.355000    2.135000              0.340000         1.555000   \n",
       "75%         2.800000    2.875000              0.437500         1.950000   \n",
       "max         3.880000    5.080000              0.660000         3.580000   \n",
       "\n",
       "       color_intensity         hue  od280/od315_of_diluted_wines      proline  \n",
       "count       178.000000  178.000000                    178.000000   178.000000  \n",
       "mean          5.058090    0.957449                      2.611685   746.893258  \n",
       "std           2.318286    0.228572                      0.709990   314.907474  \n",
       "min           1.280000    0.480000                      1.270000   278.000000  \n",
       "25%           3.220000    0.782500                      1.937500   500.500000  \n",
       "50%           4.690000    0.965000                      2.780000   673.500000  \n",
       "75%           6.200000    1.120000                      3.170000   985.000000  \n",
       "max          13.000000    1.710000                      4.000000  1680.000000  "
      ]
     },
     "execution_count": 5,
     "metadata": {},
     "output_type": "execute_result"
    }
   ],
   "source": [
    "wdf.describe()"
   ]
  },
  {
   "cell_type": "code",
   "execution_count": 32,
   "metadata": {},
   "outputs": [
    {
     "data": {
      "text/html": [
       "<div>\n",
       "<style scoped>\n",
       "    .dataframe tbody tr th:only-of-type {\n",
       "        vertical-align: middle;\n",
       "    }\n",
       "\n",
       "    .dataframe tbody tr th {\n",
       "        vertical-align: top;\n",
       "    }\n",
       "\n",
       "    .dataframe thead th {\n",
       "        text-align: right;\n",
       "    }\n",
       "</style>\n",
       "<table border=\"1\" class=\"dataframe\">\n",
       "  <thead>\n",
       "    <tr style=\"text-align: right;\">\n",
       "      <th></th>\n",
       "      <th>category</th>\n",
       "    </tr>\n",
       "  </thead>\n",
       "  <tbody>\n",
       "    <tr>\n",
       "      <th>0</th>\n",
       "      <td>0</td>\n",
       "    </tr>\n",
       "    <tr>\n",
       "      <th>1</th>\n",
       "      <td>0</td>\n",
       "    </tr>\n",
       "    <tr>\n",
       "      <th>2</th>\n",
       "      <td>0</td>\n",
       "    </tr>\n",
       "    <tr>\n",
       "      <th>3</th>\n",
       "      <td>0</td>\n",
       "    </tr>\n",
       "    <tr>\n",
       "      <th>4</th>\n",
       "      <td>0</td>\n",
       "    </tr>\n",
       "  </tbody>\n",
       "</table>\n",
       "</div>"
      ],
      "text/plain": [
       "   category\n",
       "0         0\n",
       "1         0\n",
       "2         0\n",
       "3         0\n",
       "4         0"
      ]
     },
     "execution_count": 32,
     "metadata": {},
     "output_type": "execute_result"
    }
   ],
   "source": [
    "wdf_labels = pd.DataFrame(wine['target'], columns=['category'])\n",
    "wdf_labels.head()"
   ]
  },
  {
   "cell_type": "code",
   "execution_count": 7,
   "metadata": {},
   "outputs": [
    {
     "name": "stdout",
     "output_type": "stream",
     "text": [
      "(142, 13) (36, 13) (142,) (36,)\n"
     ]
    }
   ],
   "source": [
    "X = wine['data']\n",
    "\n",
    "# Convert labels to binary classification problem\n",
    "#    postive: class_0, negative: class_1 or class_2)\n",
    "y = (wine['target'] == 0).astype(int)\n",
    "\n",
    "# Split into training and testing sets\n",
    "X_train, X_test, y_train, y_test = train_test_split(X, y,\n",
    "                                                    test_size=0.2,\n",
    "                                                    random_state=42,\n",
    "                                                    stratify=y)\n",
    "\n",
    "print(X_train.shape, X_test.shape, y_train.shape, y_test.shape)"
   ]
  },
  {
   "cell_type": "code",
   "execution_count": 8,
   "metadata": {},
   "outputs": [
    {
     "name": "stderr",
     "output_type": "stream",
     "text": [
      "/Users/heatherkusmierz/anaconda3/lib/python3.7/site-packages/sklearn/ensemble/forest.py:246: FutureWarning: The default value of n_estimators will change from 10 in version 0.20 to 100 in 0.22.\n",
      "  \"10 in version 0.20 to 100 in 0.22.\", FutureWarning)\n"
     ]
    },
    {
     "data": {
      "text/plain": [
       "RandomForestClassifier(bootstrap=True, class_weight=None, criterion='gini',\n",
       "            max_depth=None, max_features='auto', max_leaf_nodes=None,\n",
       "            min_impurity_decrease=0.0, min_impurity_split=None,\n",
       "            min_samples_leaf=1, min_samples_split=2,\n",
       "            min_weight_fraction_leaf=0.0, n_estimators=10, n_jobs=None,\n",
       "            oob_score=False, random_state=42, verbose=0, warm_start=False)"
      ]
     },
     "execution_count": 8,
     "metadata": {},
     "output_type": "execute_result"
    }
   ],
   "source": [
    "# Explore different performance measures based on one out-of-the-box model\n",
    "# Create and fit a RandomForestClassifier\n",
    "rf = RandomForestClassifier(random_state=42)\n",
    "rf.fit(X_train, y_train)"
   ]
  },
  {
   "cell_type": "code",
   "execution_count": 9,
   "metadata": {},
   "outputs": [
    {
     "data": {
      "text/plain": [
       "array([[93,  2],\n",
       "       [ 3, 44]])"
      ]
     },
     "execution_count": 9,
     "metadata": {},
     "output_type": "execute_result"
    }
   ],
   "source": [
    "# Compute cross-validated predictions\n",
    "y_train_pred_rf = cross_val_predict(rf, X_train, y_train, cv=3)\n",
    "\n",
    "# View the confusion matrix - predictions (columns) vs labels (rows)\n",
    "cm_rf = confusion_matrix(y_train, y_train_pred_rf)\n",
    "cm_rf"
   ]
  },
  {
   "cell_type": "code",
   "execution_count": 10,
   "metadata": {},
   "outputs": [
    {
     "name": "stdout",
     "output_type": "stream",
     "text": [
      "Precision: 0.9565\n",
      "Recall/Sensitivity/TPR: 0.9362\n",
      "F1 score: 0.9462\n"
     ]
    }
   ],
   "source": [
    "# Viewing different scoring metrics\n",
    "\n",
    "# Precision: what percent of the positive preditions were correct?\n",
    "p = precision_score(y_train, y_train_pred_rf)\n",
    "\n",
    "# Recall: how many positive labels were correctly classified\n",
    "r = recall_score(y_train, y_train_pred_rf)\n",
    "\n",
    "# F1: similar precision and recall\n",
    "f_1 = f1_score(y_train, y_train_pred_rf)\n",
    "\n",
    "print('Precision: {0:.4f}'.format(p))\n",
    "print('Recall/Sensitivity/TPR: {0:.4f}'.format(r))\n",
    "print('F1 score: {0:.4f}'.format(f_1))"
   ]
  },
  {
   "cell_type": "code",
   "execution_count": 11,
   "metadata": {},
   "outputs": [
    {
     "name": "stdout",
     "output_type": "stream",
     "text": [
      "Method: accuracy\n",
      "Results: [0.9375     1.         0.95652174]\n",
      "\n",
      "Method: precision\n",
      "Results: [1.         1.         0.88235294]\n",
      "\n",
      "Method: recall\n",
      "Results: [0.8125 1.     1.    ]\n",
      "\n",
      "Method: f1\n",
      "Results: [0.89655172 1.         0.9375    ]\n",
      "\n",
      "Method: roc_auc\n",
      "Results: [1. 1. 1.]\n",
      "\n",
      "Classification Report\n",
      "              precision    recall  f1-score   support\n",
      "\n",
      "           0       0.97      0.98      0.97        95\n",
      "           1       0.96      0.94      0.95        47\n",
      "\n",
      "   micro avg       0.96      0.96      0.96       142\n",
      "   macro avg       0.96      0.96      0.96       142\n",
      "weighted avg       0.96      0.96      0.96       142\n",
      "\n"
     ]
    }
   ],
   "source": [
    "# Check different score types across 3-fold cross validation\n",
    "score_types = ['accuracy', 'precision', 'recall', 'f1', 'roc_auc']\n",
    "\n",
    "for score in score_types:\n",
    "    vals = cross_val_score(rf, X_train, y_train, cv=3, scoring=score)\n",
    "    print('Method: {}'.format(score))\n",
    "    print('Results: {}'.format(vals))\n",
    "    print()\n",
    "\n",
    "# See multiple scoring methods with classification_report\n",
    "print('Classification Report')\n",
    "print(classification_report(y_train, y_train_pred_rf))"
   ]
  },
  {
   "cell_type": "code",
   "execution_count": 12,
   "metadata": {},
   "outputs": [
    {
     "data": {
      "image/png": "[encoded data removed]",
      "text/plain": [
       "<Figure size 432x288 with 1 Axes>"
      ]
     },
     "metadata": {
      "needs_background": "light"
     },
     "output_type": "display_data"
    }
   ],
   "source": [
    "# Generate RandomForestClassifier scores to plot Precision-Recall curves\n",
    "# sklearn classifiers have either a decision_function() method (that returns decision scores\n",
    "#    or a predict_proba() method (that returns an array of rows for each instance, cols for\n",
    "#    the probabilities for each class)\n",
    "y_scores_rf = cross_val_predict(rf, X_train, y_train, cv=3, method='predict_proba')\n",
    "\n",
    "precisions_rf, recalls_rf, thresholds_rf = precision_recall_curve(y_train, y_scores_rf[:, 1])\n",
    "\n",
    "# Plot precision and recall values against thresholds\n",
    "plt.plot(thresholds_rf, precisions_rf[:-1], \"b--\", label=\"Precision\")\n",
    "plt.plot(thresholds_rf, recalls_rf[:-1], \"r--\", label=\"Recall\")\n",
    "plt.legend()\n",
    "plt.ylim([0, 1.1])\n",
    "# plt.margins(0.2)\n",
    "plt.xlabel(\"Threshold\")\n",
    "plt.show()"
   ]
  },
  {
   "cell_type": "code",
   "execution_count": 13,
   "metadata": {},
   "outputs": [
    {
     "name": "stdout",
     "output_type": "stream",
     "text": [
      "Area under the ROC curve: 0.9965\n"
     ]
    },
    {
     "data": {
      "image/png": "[encoded data removed]",
      "text/plain": [
       "<Figure size 432x288 with 1 Axes>"
      ]
     },
     "metadata": {
      "needs_background": "light"
     },
     "output_type": "display_data"
    }
   ],
   "source": [
    "# Plot ROC Curve\n",
    "fpr_rf, tpr_rf, thresholds_roc_rf = roc_curve(y_train, y_scores_rf[:, 1])\n",
    "auc_rf = roc_auc_score(y_train, y_scores_rf[:, 1])\n",
    "\n",
    "print('Area under the ROC curve: {0:.4f}'.format(auc_rf))\n",
    "\n",
    "# Plot ROC curve\n",
    "plt.plot(fpr_rf, tpr_rf);\n",
    "plt.plot([0, 1], [0, 1], \"k--\");\n",
    "plt.axis([-0.1, 1.1, 0, 1.1]);\n",
    "plt.xlabel(\"False Positive Rate\");\n",
    "plt.ylabel(\"True Positive Rate\");\n",
    "plt.title(\"Random Forest ROC Curve\");"
   ]
  },
  {
   "cell_type": "code",
   "execution_count": 14,
   "metadata": {},
   "outputs": [
    {
     "name": "stderr",
     "output_type": "stream",
     "text": [
      "/Users/heatherkusmierz/anaconda3/lib/python3.7/site-packages/sklearn/model_selection/_search.py:841: DeprecationWarning: The default of the `iid` parameter will change from True to False in version 0.22 and will be removed in 0.24. This will change numeric results when test-set sizes are unequal.\n",
      "  DeprecationWarning)\n",
      "/Users/heatherkusmierz/anaconda3/lib/python3.7/site-packages/sklearn/linear_model/logistic.py:433: FutureWarning: Default solver will be changed to 'lbfgs' in 0.22. Specify a solver to silence this warning.\n",
      "  FutureWarning)\n"
     ]
    },
    {
     "name": "stdout",
     "output_type": "stream",
     "text": [
      "logreg has been fitted.\n"
     ]
    },
    {
     "name": "stderr",
     "output_type": "stream",
     "text": [
      "/Users/heatherkusmierz/anaconda3/lib/python3.7/site-packages/sklearn/model_selection/_search.py:841: DeprecationWarning: The default of the `iid` parameter will change from True to False in version 0.22 and will be removed in 0.24. This will change numeric results when test-set sizes are unequal.\n",
      "  DeprecationWarning)\n"
     ]
    },
    {
     "name": "stdout",
     "output_type": "stream",
     "text": [
      "rf has been fitted.\n",
      "gb has been fitted.\n"
     ]
    },
    {
     "name": "stderr",
     "output_type": "stream",
     "text": [
      "/Users/heatherkusmierz/anaconda3/lib/python3.7/site-packages/sklearn/model_selection/_search.py:841: DeprecationWarning: The default of the `iid` parameter will change from True to False in version 0.22 and will be removed in 0.24. This will change numeric results when test-set sizes are unequal.\n",
      "  DeprecationWarning)\n"
     ]
    }
   ],
   "source": [
    "# Setup simple data processing pipelines for each model\n",
    "pipelines = {}\n",
    "\n",
    "pipelines['logreg'] = Pipeline([('scaler', StandardScaler()),\n",
    "                                ('logreg', LogisticRegression(random_state=42))])\n",
    "\n",
    "pipelines['rf'] = Pipeline([('scaler', StandardScaler()),\n",
    "                            ('rf', RandomForestClassifier(random_state=42))])\n",
    "\n",
    "pipelines['gb'] = Pipeline([('scaler', StandardScaler()),\n",
    "                            ('gb', GradientBoostingClassifier(random_state=42))])\n",
    "\n",
    "# Setup hyperparameter grids for each model: step_name__parameter_name\n",
    "logreg_hp = {'logreg__C': [0.001, 0.005, 0.01, 0.05, 0.1, 0.5, 1, 5, 10, 50, 100, 500, 1000],\n",
    "             'logreg__penalty': ['l1', 'l2']}\n",
    "\n",
    "rf_hp = {'rf__n_estimators': [100, 200],\n",
    "         'rf__max_features': ['auto', 'sqrt'],\n",
    "         'rf__min_samples_leaf': [1, 3, 5, 10]}\n",
    "\n",
    "gb_hp = {'gb__n_estimators': [100, 200],\n",
    "         'gb__learning_rate': [0.05, 0.1, 0.2],\n",
    "         'gb__max_depth': [1, 3, 5]}\n",
    "\n",
    "hyperparameters = {\n",
    "    'logreg': logreg_hp,\n",
    "    'rf': rf_hp,\n",
    "    'gb': gb_hp\n",
    "}\n",
    "\n",
    "# Run GridSearch cross validation to tune model hyperparameters\n",
    "fitted_models = {}\n",
    "for name, pipeline in pipelines.items():\n",
    "    model = GridSearchCV(pipeline, hyperparameters[name], cv=5, n_jobs=-1)\n",
    "    model.fit(X_train, y_train)\n",
    "    fitted_models[name] = model\n",
    "    print(name, 'has been fitted.')"
   ]
  },
  {
   "cell_type": "code",
   "execution_count": 15,
   "metadata": {},
   "outputs": [
    {
     "name": "stdout",
     "output_type": "stream",
     "text": [
      "Model: logreg\n",
      "CV best score: 1.0\n",
      "Best hyperparameters: {'logreg__C': 10, 'logreg__penalty': 'l1'}\n",
      "Test set score: 1.0\n",
      "Classification Report\n",
      "              precision    recall  f1-score   support\n",
      "\n",
      "           0       1.00      1.00      1.00        24\n",
      "           1       1.00      1.00      1.00        12\n",
      "\n",
      "   micro avg       1.00      1.00      1.00        36\n",
      "   macro avg       1.00      1.00      1.00        36\n",
      "weighted avg       1.00      1.00      1.00        36\n",
      "\n",
      "\n",
      "Model: rf\n",
      "CV best score: 0.9929577464788732\n",
      "Best hyperparameters: {'rf__max_features': 'auto', 'rf__min_samples_leaf': 1, 'rf__n_estimators': 100}\n",
      "Test set score: 0.9444444444444444\n",
      "Classification Report\n",
      "              precision    recall  f1-score   support\n",
      "\n",
      "           0       0.96      0.96      0.96        24\n",
      "           1       0.92      0.92      0.92        12\n",
      "\n",
      "   micro avg       0.94      0.94      0.94        36\n",
      "   macro avg       0.94      0.94      0.94        36\n",
      "weighted avg       0.94      0.94      0.94        36\n",
      "\n",
      "\n",
      "Model: gb\n",
      "CV best score: 0.9929577464788732\n",
      "Best hyperparameters: {'gb__learning_rate': 0.05, 'gb__max_depth': 1, 'gb__n_estimators': 100}\n",
      "Test set score: 0.9722222222222222\n",
      "Classification Report\n",
      "              precision    recall  f1-score   support\n",
      "\n",
      "           0       1.00      0.96      0.98        24\n",
      "           1       0.92      1.00      0.96        12\n",
      "\n",
      "   micro avg       0.97      0.97      0.97        36\n",
      "   macro avg       0.96      0.98      0.97        36\n",
      "weighted avg       0.97      0.97      0.97        36\n",
      "\n",
      "\n"
     ]
    }
   ],
   "source": [
    "# Compare model performance\n",
    "for name, model in fitted_models.items():\n",
    "    print('Model: {}'.format(name))\n",
    "    print('CV best score: {}'.format(model.best_score_))\n",
    "    print('Best hyperparameters: {}'.format(model.best_params_))\n",
    "    pred = model.predict(X_test)\n",
    "    print('Test set score: {}'.format(model.score(X_test, y_test)))\n",
    "    print('Classification Report')\n",
    "    print(classification_report(y_test, pred))\n",
    "    print()\n",
    "    "
   ]
  },
  {
   "cell_type": "markdown",
   "metadata": {},
   "source": [
    "### Regression\n",
    "\n",
    "Regression problems use a dataset's features to try to make real-valued predictions, such as the price of a stock or value of a property.\n",
    "\n",
    "The **$R^2$** score gives the amount of variance in the target variable that's predicted by features in the model."
   ]
  },
  {
   "cell_type": "code",
   "execution_count": 16,
   "metadata": {},
   "outputs": [],
   "source": [
    "# Analysis meant as demonstration of performance measures only - no EDA, data cleaning,\n",
    "#    or model tuning has been performed\n",
    "\n",
    "# Import model\n",
    "from sklearn.ensemble import RandomForestRegressor\n",
    "\n",
    "# Import scikit learn metrics\n",
    "from sklearn.metrics import mean_absolute_error, mean_squared_error, r2_score"
   ]
  },
  {
   "cell_type": "code",
   "execution_count": 17,
   "metadata": {},
   "outputs": [
    {
     "data": {
      "text/plain": [
       "dict_keys(['data', 'target', 'feature_names', 'DESCR', 'filename'])"
      ]
     },
     "execution_count": 17,
     "metadata": {},
     "output_type": "execute_result"
    }
   ],
   "source": [
    "# Import toy Boston housing dataset from scikit learn\n",
    "boston = sklearn.datasets.load_boston()\n",
    "boston.keys()"
   ]
  },
  {
   "cell_type": "code",
   "execution_count": 18,
   "metadata": {},
   "outputs": [],
   "source": [
    "# Create DataFrame to lightly explore data\n",
    "# bdf = pd.DataFrame(boston['data'], columns=boston['feature_names'])\n",
    "# bdf.head()"
   ]
  },
  {
   "cell_type": "code",
   "execution_count": 19,
   "metadata": {},
   "outputs": [
    {
     "name": "stdout",
     "output_type": "stream",
     "text": [
      "(404, 13) (102, 13) (404,) (102,)\n"
     ]
    }
   ],
   "source": [
    "X_reg = boston['data']\n",
    "y_reg = boston['target']\n",
    "\n",
    "# Split into training and testing sets\n",
    "X_reg_train, X_reg_test, y_reg_train, y_reg_test = train_test_split(X_reg, y_reg,\n",
    "                                                                    test_size=0.2,\n",
    "                                                                    random_state=42)\n",
    "\n",
    "print(X_reg_train.shape, X_reg_test.shape, y_reg_train.shape, y_reg_test.shape)"
   ]
  },
  {
   "cell_type": "code",
   "execution_count": 20,
   "metadata": {},
   "outputs": [
    {
     "data": {
      "text/plain": [
       "RandomForestRegressor(bootstrap=True, criterion='mse', max_depth=None,\n",
       "           max_features='auto', max_leaf_nodes=None,\n",
       "           min_impurity_decrease=0.0, min_impurity_split=None,\n",
       "           min_samples_leaf=1, min_samples_split=2,\n",
       "           min_weight_fraction_leaf=0.0, n_estimators=100, n_jobs=None,\n",
       "           oob_score=False, random_state=42, verbose=0, warm_start=False)"
      ]
     },
     "execution_count": 20,
     "metadata": {},
     "output_type": "execute_result"
    }
   ],
   "source": [
    "# Fit model\n",
    "rf_reg = RandomForestRegressor(n_estimators=100, random_state=42)\n",
    "rf_reg.fit(X_reg_train, y_reg_train)"
   ]
  },
  {
   "cell_type": "code",
   "execution_count": 21,
   "metadata": {},
   "outputs": [
    {
     "name": "stdout",
     "output_type": "stream",
     "text": [
      "Method: neg_mean_absolute_error\n",
      "Results: [-2.35057778 -3.10021481 -2.18285075]\n",
      "Method: neg_mean_squared_error\n",
      "Results: [-15.21401021 -21.45936131 -12.51967336]\n",
      "Method: r2\n",
      "Results: [0.83318101 0.77951458 0.82577604]\n"
     ]
    }
   ],
   "source": [
    "# Check different score types across 3-fold cross validation\n",
    "reg_score_types = ['neg_mean_absolute_error', 'neg_mean_squared_error', 'r2']\n",
    "\n",
    "for score in reg_score_types:\n",
    "    reg_vals = cross_val_score(rf_reg, X_reg_train, y_reg_train, cv=3, scoring=score)\n",
    "    print('Method: {}'.format(score))\n",
    "    print('Results: {}'.format(reg_vals))\n"
   ]
  },
  {
   "cell_type": "code",
   "execution_count": 22,
   "metadata": {},
   "outputs": [
    {
     "name": "stdout",
     "output_type": "stream",
     "text": [
      "Mean Abs Error score on test: 2.0494\n",
      "Mean Squared Error score on test: 8.0913\n",
      "R2 score on test: 0.8897\n"
     ]
    }
   ],
   "source": [
    "pred_reg = rf_reg.predict(X_reg_test)\n",
    "print('Mean Abs Error score on test: {0:.4f}'.format(mean_absolute_error(y_reg_test, pred_reg)))\n",
    "print('Mean Squared Error score on test: {0:.4f}'.format(mean_squared_error(y_reg_test, pred_reg)))\n",
    "print('R2 score on test: {0:.4f}'.format(r2_score(y_reg_test, pred_reg)))"
   ]
  },
  {
   "cell_type": "code",
   "execution_count": 24,
   "metadata": {},
   "outputs": [
    {
     "data": {
      "image/png": "[encoded data removed]",
      "text/plain": [
       "<Figure size 432x288 with 1 Axes>"
      ]
     },
     "metadata": {
      "needs_background": "light"
     },
     "output_type": "display_data"
    }
   ],
   "source": [
    "# Plot predicted test set values vs. the actual test set values\n",
    "# Should fall along a 45-degree angle\n",
    "# Values should roughly fall along a 45 degree diagonal\n",
    "plt.plot(y_reg_test, pred_reg, marker='.', linestyle='none')\n",
    "plt.title('Actual vs. Predicted Test Values')\n",
    "plt.xlabel('Test Set Values')\n",
    "plt.ylabel('Model Predicted Values')\n",
    "plt.show()"
   ]
  }
 ],
 "metadata": {
  "kernelspec": {
   "display_name": "Python 3",
   "language": "python",
   "name": "python3"
  },
  "language_info": {
   "codemirror_mode": {
    "name": "ipython",
    "version": 3
   },
   "file_extension": ".py",
   "mimetype": "text/x-python",
   "name": "python",
   "nbconvert_exporter": "python",
   "pygments_lexer": "ipython3",
   "version": "3.7.3"
  }
 },
 "nbformat": 4,
 "nbformat_minor": 2
}
