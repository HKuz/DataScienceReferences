{
 "cells": [
  {
   "cell_type": "markdown",
   "metadata": {},
   "source": [
    "# Overview of Machine Learning\n",
    "\n",
    "Machine Learning (ML) is a subfield of Artificial Intelligence that applies math and computation to build models from data. Like modeling tasks in other fields, the goal of machine learning is to cut through the messiness, chaos, and complexity of real-world data to find the underlying relationships in order to represent the system in a meaningful way.\n",
    "\n",
    "ML algorithms use data to learn these representations, and are generally based on statistics and mathematical optimization techniques. The algorithms find patterns, trends, or learn relationships in data that may have gone unnoticed by humans.\n",
    "\n",
    "There are different types of algorithms available, and which ones to apply will largely depend on the data and the problem at hand. Algorithms are usually grouped by the following type:\n",
    "\n",
    "- **Supervised learning**: apply learned patterns to make accurate predictions about new, similar data\n",
    "- **Unsupervised learning**: get a better understanding of the structure of the data or reduce the number of variables (or features) to what's relevant\n",
    "- **Recommender systems**: make useful recommendations\n",
    "- **Reinforcement learning**: find the optimal way to perform a task or learn how to interact within a system\n",
    "\n",
    "Machine Learning is closely related to predictive statistics, and is sometimes referred to as predictive analytics or predictive modeling."
   ]
  },
  {
   "cell_type": "markdown",
   "metadata": {},
   "source": [
    "## Supervised Learning\n",
    "\n",
    "Supervised learning is in the realm of building models to make predictions. The data that are fed to the machine learning algorithms include the \"answer\" or outcome the model needs to predict, which is also called the target variable or labels. The model maps the relationships between the independent variables (the input, or features) and the labels, which is later applied to new, unseen data to make predictions going forward.\n",
    "\n",
    "Supervised learning is further broken down by the type of problem - there are **classification** problems, which predict a class or category of an observation, and **regression** problems, which predict a numerical value for an observation."
   ]
  },
  {
   "cell_type": "markdown",
   "metadata": {},
   "source": [
    "### Classification\n",
    "\n",
    "[To Come]"
   ]
  }
 ],
 "metadata": {
  "kernelspec": {
   "display_name": "Python 3",
   "language": "python",
   "name": "python3"
  },
  "language_info": {
   "codemirror_mode": {
    "name": "ipython",
    "version": 3
   },
   "file_extension": ".py",
   "mimetype": "text/x-python",
   "name": "python",
   "nbconvert_exporter": "python",
   "pygments_lexer": "ipython3",
   "version": "3.7.3"
  }
 },
 "nbformat": 4,
 "nbformat_minor": 2
}
