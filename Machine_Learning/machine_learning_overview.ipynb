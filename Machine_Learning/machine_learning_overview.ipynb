{
 "cells": [
  {
   "cell_type": "markdown",
   "metadata": {},
   "source": [
    "# Overview of Machine Learning\n",
    "\n",
    "Machine Learning (ML) is a subfield of Artificial Intelligence that applies math and computation to build models from data. Like modeling tasks in other fields, the goal of machine learning is to cut through the messiness, chaos, and complexity of real-world data to find the underlying relationships in order to represent the system in a meaningful way. All without being explicitly programmed to do so!\n",
    "\n",
    "ML algorithms use data to learn these representations, and are generally based on statistics and mathematical optimization techniques. The algorithms find patterns, trends, or learn relationships in data that may have gone unnoticed by humans.\n",
    "\n",
    "There are different types of algorithms available, and which ones to apply will largely depend on the data and the problem at hand. Algorithms are usually grouped by the following type:\n",
    "\n",
    "- **Supervised learning**: learns patterns from labeled data then applies them to make accurate predictions about new, similar data\n",
    "- **Unsupervised learning**: gives insight into the structure of the data or reduces the number of variables (or features) to what's relevant\n",
    "- **Recommender system**: learns relationships within data to make useful recommendations\n",
    "- **Reinforcement learning**: finds the optimal way to perform a task or learn how to interact in an environment, given a system of rewards and punishments\n",
    "\n",
    "Machine Learning is closely related to predictive statistics, and is sometimes referred to as predictive analytics or predictive modeling."
   ]
  },
  {
   "cell_type": "code",
   "execution_count": 3,
   "metadata": {},
   "outputs": [],
   "source": [
    "# Import libraries\n",
    "import numpy as np\n",
    "import pandas as pd\n",
    "\n",
    "import matplotlib.pyplot as plt\n",
    "%matplotlib inline\n",
    "import seaborn as sns\n",
    "sns.set_style('darkgrid')\n",
    "\n",
    "from sklearn.model_selection import train_test_split"
   ]
  },
  {
   "cell_type": "markdown",
   "metadata": {},
   "source": [
    "## Supervised Learning\n",
    "\n",
    "Supervised learning is in the realm of building models to make predictions. The data that are fed to the machine learning algorithms include the \"answer\" or outcome the model needs to predict, which is also called the target variable or labels. The model maps the relationships between the independent variables (the input, or features) and the labels, which is later applied to new, unseen data to make predictions going forward.\n",
    "\n",
    "Supervised learning is further broken down by the type of problem - there are **classification** problems, which predict a class or category of an observation, and **regression** problems, which predict a numerical value for an observation."
   ]
  },
  {
   "cell_type": "markdown",
   "metadata": {},
   "source": [
    "### Classification\n",
    "\n",
    "Examples of classification algorithms:\n",
    "\n",
    "- **Logistic Regression**: applies sigmoid function to linear regression, can use either $L_1$ or $L_2$ norm\n",
    "- **$k$-Nearest Neighbors (kNN)**: finds $k$-nearest neighbors based on a similarity function and uses majority vote to determine the class\n",
    "- **Random forest classifier**:\n",
    "- **Stochastic Gradient Descent classifier**: capable of handling large datasets and training in batches (or each instance independently)\n",
    "\n",
    "#### Performance Measures\n",
    "\n",
    "Performance measures tie closely to the confusion matrix, which shows a grid of actual labels against predicted results.\n",
    "\n",
    "| Actual: | Predicted False | Predicted True |\n",
    "| ----- | ----- | ----- |\n",
    "| **Is False** | TN | FP |\n",
    "| **Is True** | FN | TP |\n",
    "\n",
    "\n",
    "A **type I error** (false negative) is when the label is true but the observation is incorrectly classified as false. The probability of a type I error is called **alpha risk**. A **type II error** (false positive) is when the label is false but the observation is incorrectly classified as true. The probability of a type II error is called **beta risk**.\n",
    "\n",
    "- **Accuracy**: the fraction of correct predictions to total predictions $\\frac{TN + TP}{TN + FN + TP + FP}$\n",
    "- **Precision**: the rate of true positives to everything predicted as positive. In other words, when the model claims an observation is positive, it's correct this percent of the time. Good metric to use when what is classified as positive MUST be correct (predicting appropriate videos for kids) $\\frac{TP}{TP + FP}$\n",
    "- **Recall (sensitivity, true positive rate)**: the rate of true positives to everything that is postitive, or in other words, the percent of all the positives the model detects. Good metric to use when you can't let any positives slip through the cracks (predicting malignant tumors so patient receives timely treatment) $\\frac{TP}{TP + FN}$\n",
    "- **F1 Score**: the harmonic mean of precision and recall - the highest value (1) is only possible when both values for precision and recall are high. Good for situations that don't favor either precision or recall, but want to maximize both, or for when the positive class is scarce $\\frac{2}{\\frac{1}{precision} + \\frac{1}{recall}} = \\frac{TP}{TP + \\frac{FN + FP}{2}}$\n",
    "- **Specificity (true negative rate)**: the rate of true negatives to everything that is negative $\\frac{TN}{TN + FP}$\n",
    "- **False positive rate**: rate of negative values falsely classified as positive to everything that is negative $\\frac{FP}{TN + FP}$\n",
    "- **False negative rate**: rate of positive values falsely classified as negative to everything that is  positive $\\frac{FN}{TP + FN}$\n",
    "- **Receiver Operating Characteristic (ROC)**: plots the FPR (incorrectly classified negative values to all negative values) against the TPR/recall/sensitivity (correctly classified positive values to all positive values). As the threshold shifts (to left) to increase the TPR, it incorrectly classifies more and more negative values as positive and vice versa. The total **area under the ROC curve (AUROC)** is 1, indicating a perfect classifier (0.5 is completely random). Similar to precision-recall and F1 - use that when the positive class is scarce or when you care more about the false positives than the false negatives, use ROC otherwise."
   ]
  },
  {
   "cell_type": "code",
   "execution_count": 83,
   "metadata": {},
   "outputs": [],
   "source": [
    "# Import toy wine dataset from scikit learn\n",
    "# Analysis meant as demonstration of performance measures only - no EDA, data cleaning,\n",
    "#    or model tuning has been performed\n",
    "import sklearn.datasets\n",
    "\n",
    "# Import model\n",
    "from sklearn.ensemble import RandomForestClassifier\n",
    "\n",
    "# Import scikit learn metrics\n",
    "from sklearn.model_selection import cross_val_score, cross_val_predict\n",
    "from sklearn.metrics import confusion_matrix, precision_score, recall_score, f1_score, precision_recall_curve, roc_curve, roc_auc_score"
   ]
  },
  {
   "cell_type": "code",
   "execution_count": 27,
   "metadata": {},
   "outputs": [
    {
     "data": {
      "text/plain": [
       "dict_keys(['data', 'target', 'target_names', 'DESCR', 'feature_names'])"
      ]
     },
     "execution_count": 27,
     "metadata": {},
     "output_type": "execute_result"
    }
   ],
   "source": [
    "wine = sklearn.datasets.load_wine()\n",
    "wine.keys()"
   ]
  },
  {
   "cell_type": "code",
   "execution_count": 16,
   "metadata": {},
   "outputs": [],
   "source": [
    "# Create DataFrame to lightly explore data\n",
    "# wdf = pd.DataFrame(wine['data'], columns=wine['feature_names'])\n",
    "# wdf.head()"
   ]
  },
  {
   "cell_type": "code",
   "execution_count": 28,
   "metadata": {},
   "outputs": [
    {
     "name": "stdout",
     "output_type": "stream",
     "text": [
      "(142, 13) (36, 13) (142,) (36,)\n"
     ]
    }
   ],
   "source": [
    "X = wine['data']\n",
    "\n",
    "# Convert labels to binary classification problem\n",
    "#    postive: class_0, negative: class_1 or class_2)\n",
    "y = (wine['target'] == 0).astype(int)\n",
    "\n",
    "# Split into training and testing sets\n",
    "X_train, X_test, y_train, y_test = train_test_split(X, y,\n",
    "                                                    test_size=0.2,\n",
    "                                                    random_state=42,\n",
    "                                                    stratify=y)\n",
    "\n",
    "print(X_train.shape, X_test.shape, y_train.shape, y_test.shape)"
   ]
  },
  {
   "cell_type": "code",
   "execution_count": 59,
   "metadata": {},
   "outputs": [
    {
     "data": {
      "text/plain": [
       "RandomForestClassifier(bootstrap=True, class_weight=None, criterion='gini',\n",
       "            max_depth=None, max_features='auto', max_leaf_nodes=None,\n",
       "            min_impurity_decrease=0.0, min_impurity_split=None,\n",
       "            min_samples_leaf=5, min_samples_split=2,\n",
       "            min_weight_fraction_leaf=0.0, n_estimators=50, n_jobs=None,\n",
       "            oob_score=False, random_state=42, verbose=0, warm_start=False)"
      ]
     },
     "execution_count": 59,
     "metadata": {},
     "output_type": "execute_result"
    }
   ],
   "source": [
    "# Create and fit a RandomForestClassifier\n",
    "rf = RandomForestClassifier(n_estimators=50, min_samples_leaf=5, random_state=42)\n",
    "rf.fit(X_train, y_train)"
   ]
  },
  {
   "cell_type": "code",
   "execution_count": 61,
   "metadata": {},
   "outputs": [
    {
     "data": {
      "text/plain": [
       "array([[93,  2],\n",
       "       [ 3, 44]])"
      ]
     },
     "execution_count": 61,
     "metadata": {},
     "output_type": "execute_result"
    }
   ],
   "source": [
    "# Create a confusion matrix - predictions vs labels\n",
    "y_train_pred_rf = cross_val_predict(rf, X_train, y_train, cv=3)\n",
    "\n",
    "cm_rf = confusion_matrix(y_train, y_train_pred)\n",
    "cm_rf"
   ]
  },
  {
   "cell_type": "code",
   "execution_count": 62,
   "metadata": {},
   "outputs": [
    {
     "name": "stdout",
     "output_type": "stream",
     "text": [
      "Precision: 0.9778\n",
      "Recall/Sensitivity/TPR: 0.9362\n",
      "F1 score: 0.9565\n"
     ]
    }
   ],
   "source": [
    "# Precision: what percent of the positive preditions were correct?\n",
    "p = precision_score(y_train, y_train_pred_rf)\n",
    "\n",
    "# Recall: how many positive labels were correctly classified\n",
    "r = recall_score(y_train, y_train_pred_rf)\n",
    "\n",
    "# F1: similar precision and recall\n",
    "f_1 = f1_score(y_train, y_train_pred_rf)\n",
    "\n",
    "print('Precision: {0:.4f}'.format(p))\n",
    "print('Recall/Sensitivity/TPR: {0:.4f}'.format(r))\n",
    "print('F1 score: {0:.4f}'.format(f_1))"
   ]
  },
  {
   "cell_type": "code",
   "execution_count": 81,
   "metadata": {},
   "outputs": [
    {
     "name": "stdout",
     "output_type": "stream",
     "text": [
      "Method: accuracy\n",
      "Results: [0.9375     1.         0.97826087]\n",
      "Method: precision\n",
      "Results: [1.     1.     0.9375]\n",
      "Method: recall\n",
      "Results: [0.8125 1.     1.    ]\n",
      "Method: f1\n",
      "Results: [0.89655172 1.         0.96774194]\n",
      "Method: roc_auc\n",
      "Results: [1. 1. 1.]\n"
     ]
    }
   ],
   "source": [
    "# Check different score types across 3-fold cross validation\n",
    "score_types = ['accuracy', 'precision', 'recall', 'f1', 'roc_auc']\n",
    "\n",
    "for score in score_types:\n",
    "    vals = cross_val_score(rf, X_train, y_train, cv=3, scoring=score)\n",
    "    print('Method: {}'.format(score))\n",
    "    print('Results: {}'.format(vals))\n"
   ]
  },
  {
   "cell_type": "code",
   "execution_count": 82,
   "metadata": {},
   "outputs": [
    {
     "data": {
      "image/png": "[encoded data removed]",
      "text/plain": [
       "<Figure size 432x288 with 1 Axes>"
      ]
     },
     "metadata": {},
     "output_type": "display_data"
    }
   ],
   "source": [
    "# Generate RandomForestClassifier scores to plot P-R and ROC\n",
    "# cross_val_predict returns an array with probabilities for negative and positive classes\n",
    "y_scores_rf = cross_val_predict(rf, X_train, y_train, cv=3, method='predict_proba')\n",
    "\n",
    "precisions_rf, recalls_rf, thresholds_rf = precision_recall_curve(y_train, y_scores_rf[:, 1])\n",
    "\n",
    "# Plot precision and recall values against thresholds\n",
    "plt.plot(thresholds_rf, precisions_rf[:-1], \"b--\", label=\"Precision\")\n",
    "plt.plot(thresholds_rf, recalls_rf[:-1], \"r--\", label=\"Recall\")\n",
    "plt.legend()\n",
    "plt.ylim([0, 1.1])\n",
    "# plt.margins(0.2)\n",
    "plt.xlabel(\"Threshold\")\n",
    "plt.show()"
   ]
  },
  {
   "cell_type": "code",
   "execution_count": 78,
   "metadata": {},
   "outputs": [
    {
     "name": "stdout",
     "output_type": "stream",
     "text": [
      "Area under the ROC curve: 0.9973\n"
     ]
    },
    {
     "data": {
      "text/plain": [
       "Text(0.5, 1.0, 'Random Forest ROC Curve')"
      ]
     },
     "execution_count": 78,
     "metadata": {},
     "output_type": "execute_result"
    },
    {
     "data": {
      "image/png": "[encoded data removed]",
      "text/plain": [
       "<Figure size 432x288 with 1 Axes>"
      ]
     },
     "metadata": {},
     "output_type": "display_data"
    }
   ],
   "source": [
    "# ROC Curve\n",
    "fpr_rf, tpr_rf, thresholds_roc_rf = roc_curve(y_train, y_scores_rf[:, 1])\n",
    "auc_rf = roc_auc_score(y_train, y_scores_rf[:, 1])\n",
    "\n",
    "print('Area under the ROC curve: {0:.4f}'.format(auc_rf))\n",
    "\n",
    "# Plot ROC curve\n",
    "plt.plot(fpr_rf, tpr_rf)\n",
    "plt.plot([0, 1], [0, 1], \"k--\")\n",
    "plt.axis([-0.1, 1.1, 0, 1.1])\n",
    "plt.xlabel(\"False Positive Rate\")\n",
    "plt.ylabel(\"True Positive Rate\")\n",
    "plt.title(\"Random Forest ROC Curve\")"
   ]
  },
  {
   "cell_type": "markdown",
   "metadata": {},
   "source": [
    "### Regression\n",
    "\n",
    "[TO COME]"
   ]
  }
 ],
 "metadata": {
  "kernelspec": {
   "display_name": "Python 3",
   "language": "python",
   "name": "python3"
  },
  "language_info": {
   "codemirror_mode": {
    "name": "ipython",
    "version": 3
   },
   "file_extension": ".py",
   "mimetype": "text/x-python",
   "name": "python",
   "nbconvert_exporter": "python",
   "pygments_lexer": "ipython3",
   "version": "3.7.3"
  }
 },
 "nbformat": 4,
 "nbformat_minor": 2
}
